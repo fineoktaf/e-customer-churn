{
  "cells": [
    {
      "cell_type": "markdown",
      "metadata": {},
      "source": [
        "#  Business Problem Understanding"
      ]
    },
    {
      "cell_type": "markdown",
      "metadata": {},
      "source": [
        "TokoHijau a leading e-commerce company, faces high customer churn rates, impacting revenue and growth. To mitigate this, understanding churn drivers and predicting at-risk customers is crucial. With targeted retention strategies, TokoHijau can boost loyalty and safeguard its revenue."
      ]
    },
    {
      "cell_type": "markdown",
      "metadata": {},
      "source": [
        "# Problem Statement"
      ]
    },
    {
      "cell_type": "markdown",
      "metadata": {},
      "source": [
        "E-commerce must predict customer churn to reduce revenue loss by targeting the right customers with effective promotions. This ensures better service, retains customers, and minimizes potential losses."
      ]
    },
    {
      "cell_type": "markdown",
      "metadata": {},
      "source": [
        "# Goals"
      ]
    },
    {
      "cell_type": "markdown",
      "metadata": {},
      "source": [
        "- Develop predictive models that can identify customers who are likely to churn before they actually leave the service.\n",
        "\n",
        "- Optimize promotional strategies by ensuring that promotions are only given to customers who have a high probability of using them."
      ]
    },
    {
      "cell_type": "markdown",
      "metadata": {},
      "source": [
        "# Metric Evaluation \n",
        "\n",
        "- True Positive: The model predicts that customers will churn and the result is churn\n",
        "- False Positive: The model predicts that customers will churn, but in reality they do not churn\n",
        "- False Negative: The model predicts that customers will not churn, but in reality they do churn\n",
        "- True Negative: The model predicts that customers will not churn and the result is not churn\n",
        "\n",
        "Here is an analysis of the prediction errors :\n",
        "\n",
        "False Positive:\n",
        "- Promotions are given to customers who do not actually need promotions. This can result in decreased profits from the product.\n",
        "\n",
        "False Negative:\n",
        "- Customers who should get promotions or special attention do not receive them, and this can have a negative impact because they may actually leave the service which means no profit from the customer."
      ]
    },
    {
      "cell_type": "markdown",
      "metadata": {},
      "source": [
        "# Data set Understanding\n",
        "\n",
        "This dataset presents information that can be used to analyze customer churn behavior and identify factors that influence their decision to unsubscribe. Here is a summary of the information in this dataset:\n",
        "\n",
        "1. Customer Demographic Information (Dependents): This data provides insight into the customer's personality, which may affect the stability of their membership in the service. For example, the features `Warehouse To Home` and `Marital Status`\n",
        "2. Customer Application Usage: The dataset includes information about how customers use the application, such as: `Tenure`, `Number of Device Registered`, `Prefer Order Cat`, `Number Of Address`, `Day Since Last Order`, and `Cashbak Amount`.\n",
        "3. Customer Satisfaction: This data includes customer ratings `Satisfaction Score` and complaints from customers `Complain`.\n",
        "4. Customer Churn Status: The critical column in the dataset is the `Churn` column, which indicates whether a customer has churn from the application. Analysis of this column will help in understanding the customer churn pattern and identifying factors related to their decision to leave the service.\n"
      ]
    },
    {
      "cell_type": "markdown",
      "metadata": {},
      "source": [
        "\n",
        "| Feature                   | Description                                                   |\n",
        "|---------------------------|---------------------------------------------------------------|\n",
        "| **Tenure**                | Tenure of a customer in the company.                          |\n",
        "| **WarehouseToHome**       | Distance between the warehouse to the customer’s home.        |\n",
        "| **NumberOfDeviceRegistered** | Total number of devices registered on a particular customer. |\n",
        "| **PreferedOrderCat**      | Preferred order category of a customer in the last month.     |\n",
        "| **SatisfactionScore**     | Satisfactory score of a customer on service.                  |\n",
        "| **MaritalStatus**         | Marital status of a customer.                                 |\n",
        "| **NumberOfAddress**       | Total number of addresses added by a particular customer.     |\n",
        "| **Complaint**             | Any complaint raised in the last month.                       |\n",
        "| **DaySinceLastOrder**     | Days since the last order by the customer.                    |\n",
        "| **CashbackAmount**        | Average cashback in the last month.                           |\n",
        "| **Churn**                 | Churn flag.                                                   |\n"
      ]
    },
    {
      "cell_type": "markdown",
      "metadata": {},
      "source": [
        "# Import Library"
      ]
    },
    {
      "cell_type": "code",
      "execution_count": 317,
      "metadata": {},
      "outputs": [],
      "source": [
        "import pandas as pd\n",
        "import seaborn as sns\n",
        "import matplotlib.pyplot as plt\n",
        "import plotly.express as px\n",
        "\n",
        "from sklearn.model_selection import train_test_split, GridSearchCV\n",
        "from sklearn.preprocessing import OneHotEncoder, StandardScaler\n",
        "from sklearn.compose import ColumnTransformer\n",
        "from sklearn.pipeline import Pipeline\n",
        "from sklearn.ensemble import RandomForestClassifier\n",
        "from sklearn.tree import DecisionTreeClassifier\n",
        "from xgboost import XGBClassifier\n",
        "from sklearn.metrics import classification_report, accuracy_score\n",
        "import pickle\n",
        "import xgboost as xgb\n",
        "\n",
        "# Ignore Warning\n",
        "import sys\n",
        "import warnings\n",
        "if not sys.warnoptions:\n",
        "    warnings.simplefilter(\"ignore\")\n"
      ]
    },
    {
      "cell_type": "markdown",
      "metadata": {},
      "source": [
        "# Load dataset"
      ]
    },
    {
      "cell_type": "code",
      "execution_count": 276,
      "metadata": {},
      "outputs": [
        {
          "data": {
            "text/html": [
              "<div>\n",
              "<style scoped>\n",
              "    .dataframe tbody tr th:only-of-type {\n",
              "        vertical-align: middle;\n",
              "    }\n",
              "\n",
              "    .dataframe tbody tr th {\n",
              "        vertical-align: top;\n",
              "    }\n",
              "\n",
              "    .dataframe thead th {\n",
              "        text-align: right;\n",
              "    }\n",
              "</style>\n",
              "<table border=\"1\" class=\"dataframe\">\n",
              "  <thead>\n",
              "    <tr style=\"text-align: right;\">\n",
              "      <th></th>\n",
              "      <th>Tenure</th>\n",
              "      <th>WarehouseToHome</th>\n",
              "      <th>NumberOfDeviceRegistered</th>\n",
              "      <th>PreferedOrderCat</th>\n",
              "      <th>SatisfactionScore</th>\n",
              "      <th>MaritalStatus</th>\n",
              "      <th>NumberOfAddress</th>\n",
              "      <th>Complain</th>\n",
              "      <th>DaySinceLastOrder</th>\n",
              "      <th>CashbackAmount</th>\n",
              "      <th>Churn</th>\n",
              "    </tr>\n",
              "  </thead>\n",
              "  <tbody>\n",
              "    <tr>\n",
              "      <th>0</th>\n",
              "      <td>15.0</td>\n",
              "      <td>29.0</td>\n",
              "      <td>4</td>\n",
              "      <td>Laptop &amp; Accessory</td>\n",
              "      <td>3</td>\n",
              "      <td>Single</td>\n",
              "      <td>2</td>\n",
              "      <td>0</td>\n",
              "      <td>7.0</td>\n",
              "      <td>143.32</td>\n",
              "      <td>0</td>\n",
              "    </tr>\n",
              "    <tr>\n",
              "      <th>1</th>\n",
              "      <td>7.0</td>\n",
              "      <td>25.0</td>\n",
              "      <td>4</td>\n",
              "      <td>Mobile</td>\n",
              "      <td>1</td>\n",
              "      <td>Married</td>\n",
              "      <td>2</td>\n",
              "      <td>0</td>\n",
              "      <td>7.0</td>\n",
              "      <td>129.29</td>\n",
              "      <td>0</td>\n",
              "    </tr>\n",
              "    <tr>\n",
              "      <th>2</th>\n",
              "      <td>27.0</td>\n",
              "      <td>13.0</td>\n",
              "      <td>3</td>\n",
              "      <td>Laptop &amp; Accessory</td>\n",
              "      <td>1</td>\n",
              "      <td>Married</td>\n",
              "      <td>5</td>\n",
              "      <td>0</td>\n",
              "      <td>7.0</td>\n",
              "      <td>168.54</td>\n",
              "      <td>0</td>\n",
              "    </tr>\n",
              "    <tr>\n",
              "      <th>3</th>\n",
              "      <td>20.0</td>\n",
              "      <td>25.0</td>\n",
              "      <td>4</td>\n",
              "      <td>Fashion</td>\n",
              "      <td>3</td>\n",
              "      <td>Divorced</td>\n",
              "      <td>7</td>\n",
              "      <td>0</td>\n",
              "      <td>NaN</td>\n",
              "      <td>230.27</td>\n",
              "      <td>0</td>\n",
              "    </tr>\n",
              "    <tr>\n",
              "      <th>4</th>\n",
              "      <td>30.0</td>\n",
              "      <td>15.0</td>\n",
              "      <td>4</td>\n",
              "      <td>Others</td>\n",
              "      <td>4</td>\n",
              "      <td>Single</td>\n",
              "      <td>8</td>\n",
              "      <td>0</td>\n",
              "      <td>8.0</td>\n",
              "      <td>322.17</td>\n",
              "      <td>0</td>\n",
              "    </tr>\n",
              "    <tr>\n",
              "      <th>...</th>\n",
              "      <td>...</td>\n",
              "      <td>...</td>\n",
              "      <td>...</td>\n",
              "      <td>...</td>\n",
              "      <td>...</td>\n",
              "      <td>...</td>\n",
              "      <td>...</td>\n",
              "      <td>...</td>\n",
              "      <td>...</td>\n",
              "      <td>...</td>\n",
              "      <td>...</td>\n",
              "    </tr>\n",
              "    <tr>\n",
              "      <th>3936</th>\n",
              "      <td>28.0</td>\n",
              "      <td>9.0</td>\n",
              "      <td>5</td>\n",
              "      <td>Fashion</td>\n",
              "      <td>3</td>\n",
              "      <td>Married</td>\n",
              "      <td>8</td>\n",
              "      <td>0</td>\n",
              "      <td>1.0</td>\n",
              "      <td>231.86</td>\n",
              "      <td>0</td>\n",
              "    </tr>\n",
              "    <tr>\n",
              "      <th>3937</th>\n",
              "      <td>8.0</td>\n",
              "      <td>7.0</td>\n",
              "      <td>2</td>\n",
              "      <td>Mobile Phone</td>\n",
              "      <td>2</td>\n",
              "      <td>Single</td>\n",
              "      <td>4</td>\n",
              "      <td>0</td>\n",
              "      <td>4.0</td>\n",
              "      <td>157.80</td>\n",
              "      <td>0</td>\n",
              "    </tr>\n",
              "    <tr>\n",
              "      <th>3938</th>\n",
              "      <td>30.0</td>\n",
              "      <td>6.0</td>\n",
              "      <td>5</td>\n",
              "      <td>Laptop &amp; Accessory</td>\n",
              "      <td>3</td>\n",
              "      <td>Married</td>\n",
              "      <td>3</td>\n",
              "      <td>1</td>\n",
              "      <td>2.0</td>\n",
              "      <td>156.60</td>\n",
              "      <td>0</td>\n",
              "    </tr>\n",
              "    <tr>\n",
              "      <th>3939</th>\n",
              "      <td>6.0</td>\n",
              "      <td>NaN</td>\n",
              "      <td>4</td>\n",
              "      <td>Mobile</td>\n",
              "      <td>3</td>\n",
              "      <td>Married</td>\n",
              "      <td>10</td>\n",
              "      <td>1</td>\n",
              "      <td>0.0</td>\n",
              "      <td>124.37</td>\n",
              "      <td>1</td>\n",
              "    </tr>\n",
              "    <tr>\n",
              "      <th>3940</th>\n",
              "      <td>2.0</td>\n",
              "      <td>7.0</td>\n",
              "      <td>3</td>\n",
              "      <td>Laptop &amp; Accessory</td>\n",
              "      <td>5</td>\n",
              "      <td>Married</td>\n",
              "      <td>1</td>\n",
              "      <td>0</td>\n",
              "      <td>2.0</td>\n",
              "      <td>153.73</td>\n",
              "      <td>0</td>\n",
              "    </tr>\n",
              "  </tbody>\n",
              "</table>\n",
              "<p>3941 rows × 11 columns</p>\n",
              "</div>"
            ],
            "text/plain": [
              "      Tenure  WarehouseToHome  NumberOfDeviceRegistered    PreferedOrderCat  \\\n",
              "0       15.0             29.0                         4  Laptop & Accessory   \n",
              "1        7.0             25.0                         4              Mobile   \n",
              "2       27.0             13.0                         3  Laptop & Accessory   \n",
              "3       20.0             25.0                         4             Fashion   \n",
              "4       30.0             15.0                         4              Others   \n",
              "...      ...              ...                       ...                 ...   \n",
              "3936    28.0              9.0                         5             Fashion   \n",
              "3937     8.0              7.0                         2        Mobile Phone   \n",
              "3938    30.0              6.0                         5  Laptop & Accessory   \n",
              "3939     6.0              NaN                         4              Mobile   \n",
              "3940     2.0              7.0                         3  Laptop & Accessory   \n",
              "\n",
              "      SatisfactionScore MaritalStatus  NumberOfAddress  Complain  \\\n",
              "0                     3        Single                2         0   \n",
              "1                     1       Married                2         0   \n",
              "2                     1       Married                5         0   \n",
              "3                     3      Divorced                7         0   \n",
              "4                     4        Single                8         0   \n",
              "...                 ...           ...              ...       ...   \n",
              "3936                  3       Married                8         0   \n",
              "3937                  2        Single                4         0   \n",
              "3938                  3       Married                3         1   \n",
              "3939                  3       Married               10         1   \n",
              "3940                  5       Married                1         0   \n",
              "\n",
              "      DaySinceLastOrder  CashbackAmount  Churn  \n",
              "0                   7.0          143.32      0  \n",
              "1                   7.0          129.29      0  \n",
              "2                   7.0          168.54      0  \n",
              "3                   NaN          230.27      0  \n",
              "4                   8.0          322.17      0  \n",
              "...                 ...             ...    ...  \n",
              "3936                1.0          231.86      0  \n",
              "3937                4.0          157.80      0  \n",
              "3938                2.0          156.60      0  \n",
              "3939                0.0          124.37      1  \n",
              "3940                2.0          153.73      0  \n",
              "\n",
              "[3941 rows x 11 columns]"
            ]
          },
          "execution_count": 276,
          "metadata": {},
          "output_type": "execute_result"
        }
      ],
      "source": [
        "\n",
        "data = pd.read_csv('data_ecommerce_customer_churn.csv')\n",
        "data\n",
        "\n"
      ]
    },
    {
      "cell_type": "markdown",
      "metadata": {},
      "source": [
        "There is 3941 row and 11 columns"
      ]
    },
    {
      "cell_type": "code",
      "execution_count": 277,
      "metadata": {},
      "outputs": [
        {
          "name": "stdout",
          "output_type": "stream",
          "text": [
            "<class 'pandas.core.frame.DataFrame'>\n",
            "RangeIndex: 3941 entries, 0 to 3940\n",
            "Data columns (total 11 columns):\n",
            " #   Column                    Non-Null Count  Dtype  \n",
            "---  ------                    --------------  -----  \n",
            " 0   Tenure                    3747 non-null   float64\n",
            " 1   WarehouseToHome           3772 non-null   float64\n",
            " 2   NumberOfDeviceRegistered  3941 non-null   int64  \n",
            " 3   PreferedOrderCat          3941 non-null   object \n",
            " 4   SatisfactionScore         3941 non-null   int64  \n",
            " 5   MaritalStatus             3941 non-null   object \n",
            " 6   NumberOfAddress           3941 non-null   int64  \n",
            " 7   Complain                  3941 non-null   int64  \n",
            " 8   DaySinceLastOrder         3728 non-null   float64\n",
            " 9   CashbackAmount            3941 non-null   float64\n",
            " 10  Churn                     3941 non-null   int64  \n",
            "dtypes: float64(4), int64(5), object(2)\n",
            "memory usage: 338.8+ KB\n"
          ]
        }
      ],
      "source": [
        "data.info()"
      ]
    },
    {
      "cell_type": "code",
      "execution_count": 278,
      "metadata": {},
      "outputs": [
        {
          "data": {
            "text/html": [
              "<div>\n",
              "<style scoped>\n",
              "    .dataframe tbody tr th:only-of-type {\n",
              "        vertical-align: middle;\n",
              "    }\n",
              "\n",
              "    .dataframe tbody tr th {\n",
              "        vertical-align: top;\n",
              "    }\n",
              "\n",
              "    .dataframe thead th {\n",
              "        text-align: right;\n",
              "    }\n",
              "</style>\n",
              "<table border=\"1\" class=\"dataframe\">\n",
              "  <thead>\n",
              "    <tr style=\"text-align: right;\">\n",
              "      <th></th>\n",
              "      <th>Tenure</th>\n",
              "      <th>WarehouseToHome</th>\n",
              "      <th>NumberOfDeviceRegistered</th>\n",
              "      <th>SatisfactionScore</th>\n",
              "      <th>NumberOfAddress</th>\n",
              "      <th>Complain</th>\n",
              "      <th>DaySinceLastOrder</th>\n",
              "      <th>CashbackAmount</th>\n",
              "      <th>Churn</th>\n",
              "    </tr>\n",
              "  </thead>\n",
              "  <tbody>\n",
              "    <tr>\n",
              "      <th>count</th>\n",
              "      <td>3747.000000</td>\n",
              "      <td>3772.000000</td>\n",
              "      <td>3941.000000</td>\n",
              "      <td>3941.000000</td>\n",
              "      <td>3941.000000</td>\n",
              "      <td>3941.000000</td>\n",
              "      <td>3728.000000</td>\n",
              "      <td>3941.000000</td>\n",
              "      <td>3941.000000</td>\n",
              "    </tr>\n",
              "    <tr>\n",
              "      <th>mean</th>\n",
              "      <td>10.081398</td>\n",
              "      <td>15.650583</td>\n",
              "      <td>3.679269</td>\n",
              "      <td>3.088302</td>\n",
              "      <td>4.237757</td>\n",
              "      <td>0.282416</td>\n",
              "      <td>4.531652</td>\n",
              "      <td>176.707419</td>\n",
              "      <td>0.171023</td>\n",
              "    </tr>\n",
              "    <tr>\n",
              "      <th>std</th>\n",
              "      <td>8.498864</td>\n",
              "      <td>8.452301</td>\n",
              "      <td>1.013938</td>\n",
              "      <td>1.381832</td>\n",
              "      <td>2.626699</td>\n",
              "      <td>0.450232</td>\n",
              "      <td>3.667648</td>\n",
              "      <td>48.791784</td>\n",
              "      <td>0.376576</td>\n",
              "    </tr>\n",
              "    <tr>\n",
              "      <th>min</th>\n",
              "      <td>0.000000</td>\n",
              "      <td>5.000000</td>\n",
              "      <td>1.000000</td>\n",
              "      <td>1.000000</td>\n",
              "      <td>1.000000</td>\n",
              "      <td>0.000000</td>\n",
              "      <td>0.000000</td>\n",
              "      <td>0.000000</td>\n",
              "      <td>0.000000</td>\n",
              "    </tr>\n",
              "    <tr>\n",
              "      <th>25%</th>\n",
              "      <td>2.000000</td>\n",
              "      <td>9.000000</td>\n",
              "      <td>3.000000</td>\n",
              "      <td>2.000000</td>\n",
              "      <td>2.000000</td>\n",
              "      <td>0.000000</td>\n",
              "      <td>2.000000</td>\n",
              "      <td>145.700000</td>\n",
              "      <td>0.000000</td>\n",
              "    </tr>\n",
              "    <tr>\n",
              "      <th>50%</th>\n",
              "      <td>9.000000</td>\n",
              "      <td>14.000000</td>\n",
              "      <td>4.000000</td>\n",
              "      <td>3.000000</td>\n",
              "      <td>3.000000</td>\n",
              "      <td>0.000000</td>\n",
              "      <td>3.000000</td>\n",
              "      <td>163.340000</td>\n",
              "      <td>0.000000</td>\n",
              "    </tr>\n",
              "    <tr>\n",
              "      <th>75%</th>\n",
              "      <td>16.000000</td>\n",
              "      <td>21.000000</td>\n",
              "      <td>4.000000</td>\n",
              "      <td>4.000000</td>\n",
              "      <td>6.000000</td>\n",
              "      <td>1.000000</td>\n",
              "      <td>7.000000</td>\n",
              "      <td>195.250000</td>\n",
              "      <td>0.000000</td>\n",
              "    </tr>\n",
              "    <tr>\n",
              "      <th>max</th>\n",
              "      <td>61.000000</td>\n",
              "      <td>127.000000</td>\n",
              "      <td>6.000000</td>\n",
              "      <td>5.000000</td>\n",
              "      <td>22.000000</td>\n",
              "      <td>1.000000</td>\n",
              "      <td>46.000000</td>\n",
              "      <td>324.990000</td>\n",
              "      <td>1.000000</td>\n",
              "    </tr>\n",
              "  </tbody>\n",
              "</table>\n",
              "</div>"
            ],
            "text/plain": [
              "            Tenure  WarehouseToHome  NumberOfDeviceRegistered  \\\n",
              "count  3747.000000      3772.000000               3941.000000   \n",
              "mean     10.081398        15.650583                  3.679269   \n",
              "std       8.498864         8.452301                  1.013938   \n",
              "min       0.000000         5.000000                  1.000000   \n",
              "25%       2.000000         9.000000                  3.000000   \n",
              "50%       9.000000        14.000000                  4.000000   \n",
              "75%      16.000000        21.000000                  4.000000   \n",
              "max      61.000000       127.000000                  6.000000   \n",
              "\n",
              "       SatisfactionScore  NumberOfAddress     Complain  DaySinceLastOrder  \\\n",
              "count        3941.000000      3941.000000  3941.000000        3728.000000   \n",
              "mean            3.088302         4.237757     0.282416           4.531652   \n",
              "std             1.381832         2.626699     0.450232           3.667648   \n",
              "min             1.000000         1.000000     0.000000           0.000000   \n",
              "25%             2.000000         2.000000     0.000000           2.000000   \n",
              "50%             3.000000         3.000000     0.000000           3.000000   \n",
              "75%             4.000000         6.000000     1.000000           7.000000   \n",
              "max             5.000000        22.000000     1.000000          46.000000   \n",
              "\n",
              "       CashbackAmount        Churn  \n",
              "count     3941.000000  3941.000000  \n",
              "mean       176.707419     0.171023  \n",
              "std         48.791784     0.376576  \n",
              "min          0.000000     0.000000  \n",
              "25%        145.700000     0.000000  \n",
              "50%        163.340000     0.000000  \n",
              "75%        195.250000     0.000000  \n",
              "max        324.990000     1.000000  "
            ]
          },
          "execution_count": 278,
          "metadata": {},
          "output_type": "execute_result"
        }
      ],
      "source": [
        "data.describe()"
      ]
    },
    {
      "cell_type": "markdown",
      "metadata": {},
      "source": [
        "**Explanation Data in One Row**"
      ]
    },
    {
      "cell_type": "code",
      "execution_count": 279,
      "metadata": {},
      "outputs": [
        {
          "data": {
            "text/plain": [
              "Tenure                                    15.0\n",
              "WarehouseToHome                           29.0\n",
              "NumberOfDeviceRegistered                     4\n",
              "PreferedOrderCat            Laptop & Accessory\n",
              "SatisfactionScore                            3\n",
              "MaritalStatus                           Single\n",
              "NumberOfAddress                              2\n",
              "Complain                                     0\n",
              "DaySinceLastOrder                          7.0\n",
              "CashbackAmount                          143.32\n",
              "Churn                                        0\n",
              "Name: 0, dtype: object"
            ]
          },
          "execution_count": 279,
          "metadata": {},
          "output_type": "execute_result"
        }
      ],
      "source": [
        "data.loc[0]"
      ]
    },
    {
      "cell_type": "markdown",
      "metadata": {},
      "source": [
        "- Tenure (15): Customer subscribed for 15 months\n",
        "- WarehouseToHome (29): 29 miles from the warehouse to the customer's home\n",
        "- NumberOfDeviceRegistered (4): 4 devices that the customer registered for their account\n",
        "- PreferedOrderCat (Laptop & Accessory): In the last month, the customer chose to buy a Laptop & Accessory\n",
        "- SatisfactionScore (3): Customer gave a 3 out of 5 rating for their satisfaction using the service\n",
        "- MaritalStatus (Single): Customer is single\n",
        "- NumberOfAddress (2): Customer registered 2 addresses on their account\n",
        "- Complaint (0): Customer did not complain\n",
        "- DaySinceLastOrder (7): Customer's last purchase was 7 days ago\n",
        "- CashbackAmount (143.32): Customer received an average cashback of $143.32 this month\n",
        "- Churn (0): Customer is not predicted to churn"
      ]
    },
    {
      "cell_type": "markdown",
      "metadata": {},
      "source": [
        "# Data Cleaning"
      ]
    },
    {
      "cell_type": "code",
      "execution_count": 280,
      "metadata": {},
      "outputs": [
        {
          "data": {
            "text/plain": [
              "Tenure                      194\n",
              "WarehouseToHome             169\n",
              "NumberOfDeviceRegistered      0\n",
              "PreferedOrderCat              0\n",
              "SatisfactionScore             0\n",
              "MaritalStatus                 0\n",
              "NumberOfAddress               0\n",
              "Complain                      0\n",
              "DaySinceLastOrder           213\n",
              "CashbackAmount                0\n",
              "Churn                         0\n",
              "dtype: int64"
            ]
          },
          "execution_count": 280,
          "metadata": {},
          "output_type": "execute_result"
        }
      ],
      "source": [
        "# check missing value total and presentage\n",
        "total_missing = data.isnull().sum()\n",
        "total_missing  "
      ]
    },
    {
      "cell_type": "code",
      "execution_count": 281,
      "metadata": {},
      "outputs": [
        {
          "data": {
            "text/plain": [
              "Tenure                      4.922608\n",
              "WarehouseToHome             4.288252\n",
              "NumberOfDeviceRegistered    0.000000\n",
              "PreferedOrderCat            0.000000\n",
              "SatisfactionScore           0.000000\n",
              "MaritalStatus               0.000000\n",
              "NumberOfAddress             0.000000\n",
              "Complain                    0.000000\n",
              "DaySinceLastOrder           5.404720\n",
              "CashbackAmount              0.000000\n",
              "Churn                       0.000000\n",
              "dtype: float64"
            ]
          },
          "execution_count": 281,
          "metadata": {},
          "output_type": "execute_result"
        }
      ],
      "source": [
        "check_missing = data.isnull().sum() * 100 / data.shape[0]\n",
        "check_missing "
      ]
    },
    {
      "cell_type": "code",
      "execution_count": 282,
      "metadata": {},
      "outputs": [],
      "source": [
        "# Fill missing values ith mean and median\n",
        "data.fillna({'Tenure':round(data.Tenure.mean()), \n",
        "           'WarehouseToHome':round(data.WarehouseToHome.mean()),  \n",
        "           'DaySinceLastOrder':data.DaySinceLastOrder.median()}, inplace=True)"
      ]
    },
    {
      "cell_type": "code",
      "execution_count": 283,
      "metadata": {},
      "outputs": [
        {
          "name": "stdout",
          "output_type": "stream",
          "text": [
            "Number of duplicate rows: 672\n",
            "Number of rows after removing duplicates: 3269\n"
          ]
        }
      ],
      "source": [
        "# Detect and remove duplicate rows\n",
        "print(\"Number of duplicate rows:\", data.duplicated().sum())\n",
        "data = data.drop_duplicates()\n",
        "print(\"Number of rows after removing duplicates:\", data.shape[0])"
      ]
    },
    {
      "cell_type": "code",
      "execution_count": 284,
      "metadata": {},
      "outputs": [
        {
          "data": {
            "text/plain": [
              "(3269, 11)"
            ]
          },
          "execution_count": 284,
          "metadata": {},
          "output_type": "execute_result"
        }
      ],
      "source": [
        "data.shape"
      ]
    },
    {
      "cell_type": "code",
      "execution_count": 285,
      "metadata": {},
      "outputs": [
        {
          "data": {
            "text/plain": [
              "PreferedOrderCat\n",
              "Laptop & Accessory    1213\n",
              "Mobile Phone           725\n",
              "Fashion                484\n",
              "Mobile                 458\n",
              "Grocery                240\n",
              "Others                 149\n",
              "Name: count, dtype: int64"
            ]
          },
          "execution_count": 285,
          "metadata": {},
          "output_type": "execute_result"
        }
      ],
      "source": [
        "# Replace value in PreferedOrderCat mobile to mobile phone\n",
        "data['PreferedOrderCat'].value_counts()"
      ]
    },
    {
      "cell_type": "markdown",
      "metadata": {},
      "source": [
        "There is 2 simillar categori, mobile and mobile phone. In this case, all value with mobile will replace with mobile phone"
      ]
    },
    {
      "cell_type": "code",
      "execution_count": 286,
      "metadata": {},
      "outputs": [],
      "source": [
        "data.loc[data['PreferedOrderCat'] == 'Mobile', 'PreferedOrderCat'] = 'Mobile Phone'\n"
      ]
    },
    {
      "cell_type": "code",
      "execution_count": 287,
      "metadata": {},
      "outputs": [
        {
          "name": "stdout",
          "output_type": "stream",
          "text": [
            "After replace\n"
          ]
        },
        {
          "data": {
            "text/plain": [
              "PreferedOrderCat\n",
              "Laptop & Accessory    1213\n",
              "Mobile Phone          1183\n",
              "Fashion                484\n",
              "Grocery                240\n",
              "Others                 149\n",
              "Name: count, dtype: int64"
            ]
          },
          "execution_count": 287,
          "metadata": {},
          "output_type": "execute_result"
        }
      ],
      "source": [
        "print('After replace')\n",
        "data['PreferedOrderCat'].value_counts()"
      ]
    },
    {
      "cell_type": "markdown",
      "metadata": {},
      "source": [
        "# EDA"
      ]
    },
    {
      "cell_type": "code",
      "execution_count": 288,
      "metadata": {},
      "outputs": [
        {
          "data": {
            "text/plain": [
              "Churn\n",
              "0    2735\n",
              "1     534\n",
              "Name: count, dtype: int64"
            ]
          },
          "execution_count": 288,
          "metadata": {},
          "output_type": "execute_result"
        }
      ],
      "source": [
        "data['Churn'].value_counts()"
      ]
    },
    {
      "cell_type": "markdown",
      "metadata": {},
      "source": [
        "The result is imbalance"
      ]
    },
    {
      "cell_type": "markdown",
      "metadata": {},
      "source": [
        "# Categorical Features"
      ]
    },
    {
      "cell_type": "markdown",
      "metadata": {},
      "source": [
        "**Barplot churn and no churn ration in categorical data**"
      ]
    },
    {
      "cell_type": "code",
      "execution_count": 289,
      "metadata": {},
      "outputs": [
        {
          "data": {
            "image/png": "[encoded data removed]",
            "text/plain": [
              "<Figure size 1000x500 with 3 Axes>"
            ]
          },
          "metadata": {},
          "output_type": "display_data"
        }
      ],
      "source": [
        "\n",
        "# list of categorical variables\n",
        "cat_vars = ['PreferedOrderCat','MaritalStatus', 'Complain']\n",
        "\n",
        "\n",
        "fig, axs = plt.subplots(ncols=3, figsize=(10,5))\n",
        "axs = axs.flatten()\n",
        "\n",
        "for i, var in enumerate(cat_vars):\n",
        "    sns.countplot(x=var, hue='Churn', data=data, ax=axs[i], palette='mako')\n",
        "    axs[i].set_xticklabels(axs[i].get_xticklabels(), rotation=90)\n",
        "\n",
        "\n",
        "fig.tight_layout()\n",
        "\n",
        "\n",
        "plt.show()"
      ]
    },
    {
      "cell_type": "markdown",
      "metadata": {},
      "source": [
        "**Stacking barplot for categorical**"
      ]
    },
    {
      "cell_type": "code",
      "execution_count": 290,
      "metadata": {},
      "outputs": [
        {
          "data": {
            "image/png": "[encoded data removed]",
            "text/plain": [
              "<Figure size 1000x500 with 3 Axes>"
            ]
          },
          "metadata": {},
          "output_type": "display_data"
        }
      ],
      "source": [
        "cat_vars = ['PreferedOrderCat','MaritalStatus', 'Complain']\n",
        "\n",
        "fig, axs = plt.subplots(ncols=3, figsize=(10,5))\n",
        "axs = axs.flatten()\n",
        "\n",
        "for i, var in enumerate(cat_vars):\n",
        "    sns.histplot(x=var, hue='Churn', data=data, ax=axs[i], multiple=\"fill\", kde=False, element=\"bars\", fill=True, stat='density', palette='mako')\n",
        "    axs[i].set_xticklabels(data[var].unique(), rotation=90)\n",
        "    axs[i].set_xlabel(var)\n",
        "fig.tight_layout()\n",
        "\n",
        "\n",
        "plt.show()"
      ]
    },
    {
      "cell_type": "markdown",
      "metadata": {},
      "source": [
        "\n",
        "- Churn Distribution:\n",
        "The data shows that non-churning customers significantly outnumber those who churn.\n",
        "\n",
        "- Preferred Order Category:\n",
        "Customers purchasing Mobile Phones are more likely to churn compared to other categories. This may be due to the nature of mobile phone purchases, which involve longer product lifespans, higher costs, slower trend changes, and different consumer behaviors. In contrast, other categories, like Laptop & Accessories, may include items with faster turnover or different consumer dynamics, though we lack specific details about the \"Accessory\" subcategory.\n",
        "\n",
        "- Marital Status:\n",
        "Single customers are more prone to churn compared to those who are Married or Divorced. Assuming singles are generally younger, they may be more tech-savvy, energetic, and inclined to explore or switch between apps more frequently.\n",
        "\n",
        "- Complaints:\n",
        "Customers who have filed complaints are more likely to churn, likely due to dissatisfaction with the app or services, as highlighted in the business metrics. Complaints often signal underlying issues that drive customer dissatisfaction."
      ]
    },
    {
      "cell_type": "markdown",
      "metadata": {},
      "source": [
        "**PreferedOrderCat**"
      ]
    },
    {
      "cell_type": "code",
      "execution_count": 291,
      "metadata": {},
      "outputs": [
        {
          "data": {
            "text/html": [
              "<div>\n",
              "<style scoped>\n",
              "    .dataframe tbody tr th:only-of-type {\n",
              "        vertical-align: middle;\n",
              "    }\n",
              "\n",
              "    .dataframe tbody tr th {\n",
              "        vertical-align: top;\n",
              "    }\n",
              "\n",
              "    .dataframe thead th {\n",
              "        text-align: right;\n",
              "    }\n",
              "</style>\n",
              "<table border=\"1\" class=\"dataframe\">\n",
              "  <thead>\n",
              "    <tr style=\"text-align: right;\">\n",
              "      <th></th>\n",
              "      <th>PreferedOrderCat</th>\n",
              "      <th>count</th>\n",
              "    </tr>\n",
              "  </thead>\n",
              "  <tbody>\n",
              "    <tr>\n",
              "      <th>0</th>\n",
              "      <td>Laptop &amp; Accessory</td>\n",
              "      <td>1213</td>\n",
              "    </tr>\n",
              "    <tr>\n",
              "      <th>1</th>\n",
              "      <td>Mobile Phone</td>\n",
              "      <td>1183</td>\n",
              "    </tr>\n",
              "    <tr>\n",
              "      <th>2</th>\n",
              "      <td>Fashion</td>\n",
              "      <td>484</td>\n",
              "    </tr>\n",
              "    <tr>\n",
              "      <th>3</th>\n",
              "      <td>Grocery</td>\n",
              "      <td>240</td>\n",
              "    </tr>\n",
              "    <tr>\n",
              "      <th>4</th>\n",
              "      <td>Others</td>\n",
              "      <td>149</td>\n",
              "    </tr>\n",
              "  </tbody>\n",
              "</table>\n",
              "</div>"
            ],
            "text/plain": [
              "     PreferedOrderCat  count\n",
              "0  Laptop & Accessory   1213\n",
              "1        Mobile Phone   1183\n",
              "2             Fashion    484\n",
              "3             Grocery    240\n",
              "4              Others    149"
            ]
          },
          "execution_count": 291,
          "metadata": {},
          "output_type": "execute_result"
        }
      ],
      "source": [
        "data['PreferedOrderCat'].value_counts().reset_index()"
      ]
    },
    {
      "cell_type": "code",
      "execution_count": 292,
      "metadata": {},
      "outputs": [
        {
          "data": {
            "image/png": "[encoded data removed]",
            "text/plain": [
              "<Figure size 1000x600 with 1 Axes>"
            ]
          },
          "metadata": {},
          "output_type": "display_data"
        }
      ],
      "source": [
        "plt.figure(figsize=(10, 6))\n",
        "sns.set(style='whitegrid')\n",
        "sns.countplot(data=data, x='PreferedOrderCat', hue='Churn')\n",
        "plt.title('Churn Distribution by Preferred Order Category')\n",
        "plt.xlabel('Preferred Order Category')\n",
        "plt.ylabel('Count')\n",
        "plt.xticks(rotation=45, ha='right')\n",
        "plt.legend(title='Churn')\n",
        "plt.tight_layout()\n",
        "plt.show()"
      ]
    },
    {
      "cell_type": "markdown",
      "metadata": {},
      "source": [
        "**Marital Status**"
      ]
    },
    {
      "cell_type": "code",
      "execution_count": 293,
      "metadata": {},
      "outputs": [],
      "source": [
        "# # maritalstatus of customer\n",
        "\n",
        "# plot_histogram(data, 'MaritalStatus')"
      ]
    },
    {
      "cell_type": "code",
      "execution_count": 294,
      "metadata": {},
      "outputs": [
        {
          "data": {
            "text/html": [
              "<div>\n",
              "<style scoped>\n",
              "    .dataframe tbody tr th:only-of-type {\n",
              "        vertical-align: middle;\n",
              "    }\n",
              "\n",
              "    .dataframe tbody tr th {\n",
              "        vertical-align: top;\n",
              "    }\n",
              "\n",
              "    .dataframe thead th {\n",
              "        text-align: right;\n",
              "    }\n",
              "</style>\n",
              "<table border=\"1\" class=\"dataframe\">\n",
              "  <thead>\n",
              "    <tr style=\"text-align: right;\">\n",
              "      <th></th>\n",
              "      <th>MaritalStatus</th>\n",
              "      <th>count</th>\n",
              "    </tr>\n",
              "  </thead>\n",
              "  <tbody>\n",
              "    <tr>\n",
              "      <th>0</th>\n",
              "      <td>Married</td>\n",
              "      <td>1686</td>\n",
              "    </tr>\n",
              "    <tr>\n",
              "      <th>1</th>\n",
              "      <td>Single</td>\n",
              "      <td>1007</td>\n",
              "    </tr>\n",
              "    <tr>\n",
              "      <th>2</th>\n",
              "      <td>Divorced</td>\n",
              "      <td>576</td>\n",
              "    </tr>\n",
              "  </tbody>\n",
              "</table>\n",
              "</div>"
            ],
            "text/plain": [
              "  MaritalStatus  count\n",
              "0       Married   1686\n",
              "1        Single   1007\n",
              "2      Divorced    576"
            ]
          },
          "execution_count": 294,
          "metadata": {},
          "output_type": "execute_result"
        }
      ],
      "source": [
        "data['MaritalStatus'].value_counts().reset_index()"
      ]
    },
    {
      "cell_type": "code",
      "execution_count": 295,
      "metadata": {},
      "outputs": [
        {
          "data": {
            "image/png": "[encoded data removed]",
            "text/plain": [
              "<Figure size 1000x600 with 1 Axes>"
            ]
          },
          "metadata": {},
          "output_type": "display_data"
        }
      ],
      "source": [
        "plt.figure(figsize=(10, 6))\n",
        "sns.set(style='whitegrid')\n",
        "sns.countplot(data=data, x='MaritalStatus', hue='Churn')\n",
        "plt.title('Churn Distribution by Marital Status Category')\n",
        "plt.xlabel('Marital Status Category')\n",
        "plt.ylabel('Count')\n",
        "plt.xticks(rotation=45, ha='right')\n",
        "plt.legend(title='Churn')\n",
        "plt.tight_layout()\n",
        "plt.show()"
      ]
    },
    {
      "cell_type": "markdown",
      "metadata": {},
      "source": [
        "# Numerical Features"
      ]
    },
    {
      "cell_type": "markdown",
      "metadata": {},
      "source": [
        "**Numerical data distribution**"
      ]
    },
    {
      "cell_type": "code",
      "execution_count": 296,
      "metadata": {},
      "outputs": [
        {
          "data": {
            "image/png": "[encoded data removed]",
            "text/plain": [
              "<Figure size 1000x500 with 4 Axes>"
            ]
          },
          "metadata": {},
          "output_type": "display_data"
        }
      ],
      "source": [
        "num_vars = ['Tenure', 'WarehouseToHome', 'DaySinceLastOrder', 'CashbackAmount']\n",
        "\n",
        "fig, axs = plt.subplots(nrows=2, ncols=2, figsize=(10,5))\n",
        "axs = axs.flatten()\n",
        "\n",
        "for i, var in enumerate(num_vars):\n",
        "    sns.histplot(x=var, data=data, ax=axs[i], color='blue', kde=True)\n",
        "\n",
        "fig.tight_layout()\n",
        "plt.show()"
      ]
    },
    {
      "cell_type": "markdown",
      "metadata": {},
      "source": [
        "# Define Features and Target"
      ]
    },
    {
      "cell_type": "code",
      "execution_count": 297,
      "metadata": {},
      "outputs": [],
      "source": [
        "# Identify features and target\n",
        "categorical_features = ['PreferedOrderCat', 'MaritalStatus']\n",
        "numerical_features = ['Tenure', 'WarehouseToHome', 'NumberOfDeviceRegistered',\n",
        "                      'SatisfactionScore', 'NumberOfAddress', 'DaySinceLastOrder', 'CashbackAmount']\n",
        "target = 'Churn'\n",
        "\n"
      ]
    },
    {
      "cell_type": "code",
      "execution_count": 298,
      "metadata": {},
      "outputs": [],
      "source": [
        "# Split data into train and test sets\n",
        "X = data[categorical_features + numerical_features]\n",
        "y = data[target]\n",
        "\n",
        "X_train, X_test, y_train, y_test = train_test_split(X, y, test_size=0.2, random_state=42, stratify=y)\n",
        "\n"
      ]
    },
    {
      "cell_type": "markdown",
      "metadata": {},
      "source": [
        "# Data Preprocessing"
      ]
    },
    {
      "cell_type": "markdown",
      "metadata": {},
      "source": [
        "Preprocessing is a crucial step in model formulation, and one of the techniques used is **Resampling**, which adjusts the class distribution in a dataset, especially when dealing with imbalanced target classes. The two main types of resampling are **OverSampling** and **UnderSampling**. Given the imbalance in the dataset, both resampling methods will be applied and evaluated to determine which one improves model performance.\n",
        "\n",
        "Another key component is **Feature Engineering**, which involves creating, modifying, or manipulating features to enhance model performance. Some feature engineering techniques include feature selection, filling missing data, encoding categorical variables, scaling, and polynomial features. In this case, we will focus on filling missing data, encoding categorical variables, and scaling data, as the dataset already contains sufficient features, and polynomial features are unnecessary.\n",
        "\n",
        "1. **Handling Missing Data**:  \n",
        "   - The dataset has three columns with missing values: **'Tenure', 'WarehouseToHome', 'DaySinceLastOrder'**.  \n",
        "   - Various methods exist for handling missing data. Since the distributions of these columns are non-normal, we will use **Simple Imputer** and fill missing values with the **Median**.\n",
        "   \n",
        "2. **Categorical Encoding (Categorical -> Numerical)**:  \n",
        "   - Encoding is essential because machine learning models require numerical inputs, and cannot learn from categorical variables in string form.  \n",
        "   - In this dataset, there are two categorical columns: **'PreferedOrderCat'** and **'MaritalStatus'**.  \n",
        "   - Given that these variables are not ordinal and have relatively few unique values, we will use **OneHotEncoder** to convert them into numerical format.\n"
      ]
    },
    {
      "cell_type": "code",
      "execution_count": 299,
      "metadata": {},
      "outputs": [],
      "source": [
        "# Define preprocessing steps\n",
        "preprocessor = ColumnTransformer(\n",
        "    transformers=[\n",
        "        ('num', StandardScaler(), numerical_features),\n",
        "        ('cat', OneHotEncoder(drop='first'), categorical_features)\n",
        "    ]\n",
        ")\n"
      ]
    },
    {
      "cell_type": "code",
      "execution_count": 300,
      "metadata": {},
      "outputs": [
        {
          "data": {
            "text/html": [
              "<div>\n",
              "<style scoped>\n",
              "    .dataframe tbody tr th:only-of-type {\n",
              "        vertical-align: middle;\n",
              "    }\n",
              "\n",
              "    .dataframe tbody tr th {\n",
              "        vertical-align: top;\n",
              "    }\n",
              "\n",
              "    .dataframe thead th {\n",
              "        text-align: right;\n",
              "    }\n",
              "</style>\n",
              "<table border=\"1\" class=\"dataframe\">\n",
              "  <thead>\n",
              "    <tr style=\"text-align: right;\">\n",
              "      <th></th>\n",
              "      <th>Tenure</th>\n",
              "      <th>WarehouseToHome</th>\n",
              "      <th>NumberOfDeviceRegistered</th>\n",
              "      <th>PreferedOrderCat</th>\n",
              "      <th>SatisfactionScore</th>\n",
              "      <th>MaritalStatus</th>\n",
              "      <th>NumberOfAddress</th>\n",
              "      <th>Complain</th>\n",
              "      <th>DaySinceLastOrder</th>\n",
              "      <th>CashbackAmount</th>\n",
              "      <th>Churn</th>\n",
              "    </tr>\n",
              "  </thead>\n",
              "  <tbody>\n",
              "    <tr>\n",
              "      <th>0</th>\n",
              "      <td>15.0</td>\n",
              "      <td>29.0</td>\n",
              "      <td>4</td>\n",
              "      <td>Laptop &amp; Accessory</td>\n",
              "      <td>3</td>\n",
              "      <td>Single</td>\n",
              "      <td>2</td>\n",
              "      <td>0</td>\n",
              "      <td>7.0</td>\n",
              "      <td>143.32</td>\n",
              "      <td>0</td>\n",
              "    </tr>\n",
              "    <tr>\n",
              "      <th>1</th>\n",
              "      <td>7.0</td>\n",
              "      <td>25.0</td>\n",
              "      <td>4</td>\n",
              "      <td>Mobile Phone</td>\n",
              "      <td>1</td>\n",
              "      <td>Married</td>\n",
              "      <td>2</td>\n",
              "      <td>0</td>\n",
              "      <td>7.0</td>\n",
              "      <td>129.29</td>\n",
              "      <td>0</td>\n",
              "    </tr>\n",
              "    <tr>\n",
              "      <th>2</th>\n",
              "      <td>27.0</td>\n",
              "      <td>13.0</td>\n",
              "      <td>3</td>\n",
              "      <td>Laptop &amp; Accessory</td>\n",
              "      <td>1</td>\n",
              "      <td>Married</td>\n",
              "      <td>5</td>\n",
              "      <td>0</td>\n",
              "      <td>7.0</td>\n",
              "      <td>168.54</td>\n",
              "      <td>0</td>\n",
              "    </tr>\n",
              "    <tr>\n",
              "      <th>3</th>\n",
              "      <td>20.0</td>\n",
              "      <td>25.0</td>\n",
              "      <td>4</td>\n",
              "      <td>Fashion</td>\n",
              "      <td>3</td>\n",
              "      <td>Divorced</td>\n",
              "      <td>7</td>\n",
              "      <td>0</td>\n",
              "      <td>3.0</td>\n",
              "      <td>230.27</td>\n",
              "      <td>0</td>\n",
              "    </tr>\n",
              "    <tr>\n",
              "      <th>4</th>\n",
              "      <td>30.0</td>\n",
              "      <td>15.0</td>\n",
              "      <td>4</td>\n",
              "      <td>Others</td>\n",
              "      <td>4</td>\n",
              "      <td>Single</td>\n",
              "      <td>8</td>\n",
              "      <td>0</td>\n",
              "      <td>8.0</td>\n",
              "      <td>322.17</td>\n",
              "      <td>0</td>\n",
              "    </tr>\n",
              "  </tbody>\n",
              "</table>\n",
              "</div>"
            ],
            "text/plain": [
              "   Tenure  WarehouseToHome  NumberOfDeviceRegistered    PreferedOrderCat  \\\n",
              "0    15.0             29.0                         4  Laptop & Accessory   \n",
              "1     7.0             25.0                         4        Mobile Phone   \n",
              "2    27.0             13.0                         3  Laptop & Accessory   \n",
              "3    20.0             25.0                         4             Fashion   \n",
              "4    30.0             15.0                         4              Others   \n",
              "\n",
              "   SatisfactionScore MaritalStatus  NumberOfAddress  Complain  \\\n",
              "0                  3        Single                2         0   \n",
              "1                  1       Married                2         0   \n",
              "2                  1       Married                5         0   \n",
              "3                  3      Divorced                7         0   \n",
              "4                  4        Single                8         0   \n",
              "\n",
              "   DaySinceLastOrder  CashbackAmount  Churn  \n",
              "0                7.0          143.32      0  \n",
              "1                7.0          129.29      0  \n",
              "2                7.0          168.54      0  \n",
              "3                3.0          230.27      0  \n",
              "4                8.0          322.17      0  "
            ]
          },
          "execution_count": 300,
          "metadata": {},
          "output_type": "execute_result"
        }
      ],
      "source": [
        "data.head()"
      ]
    },
    {
      "cell_type": "markdown",
      "metadata": {},
      "source": [
        "# Modeling"
      ]
    },
    {
      "cell_type": "code",
      "execution_count": 301,
      "metadata": {},
      "outputs": [],
      "source": [
        "# Initialize models\n",
        "decision_tree_model = Pipeline(steps=[\n",
        "    ('preprocessor', preprocessor),\n",
        "    ('classifier', DecisionTreeClassifier(random_state=42))\n",
        "])\n",
        "\n",
        "random_forest_model = Pipeline(steps=[\n",
        "    ('preprocessor', preprocessor),\n",
        "    ('classifier', RandomForestClassifier(random_state=42))\n",
        "])\n",
        "\n",
        "xgboost_model = Pipeline(steps=[\n",
        "    ('preprocessor', preprocessor),\n",
        "    ('classifier', XGBClassifier(use_label_encoder=False, eval_metric='logloss', random_state=42))\n",
        "])\n",
        "\n"
      ]
    },
    {
      "cell_type": "code",
      "execution_count": 302,
      "metadata": {},
      "outputs": [],
      "source": [
        "# Evaluate initial models\n",
        "def evaluate_model(model, X_train, X_test, y_train, y_test):\n",
        "    model.fit(X_train, y_train)\n",
        "    y_pred = model.predict(X_test)\n",
        "    return {\n",
        "        'accuracy': accuracy_score(y_test, y_pred),\n",
        "        'classification_report': classification_report(y_test, y_pred)\n",
        "    }\n",
        "\n",
        "initial_results = {\n",
        "    'Decision Tree': evaluate_model(decision_tree_model, X_train, X_test, y_train, y_test),\n",
        "    'Random Forest': evaluate_model(random_forest_model, X_train, X_test, y_train, y_test),\n",
        "    'XGBoost': evaluate_model(xgboost_model, X_train, X_test, y_train, y_test)\n",
        "}\n",
        "\n"
      ]
    },
    {
      "cell_type": "code",
      "execution_count": 303,
      "metadata": {},
      "outputs": [
        {
          "name": "stdout",
          "output_type": "stream",
          "text": [
            "Model: Decision Tree\n",
            "Accuracy: 0.8501529051987767\n",
            "Classification Report:\n",
            "              precision    recall  f1-score   support\n",
            "\n",
            "           0       0.93      0.89      0.91       547\n",
            "           1       0.53      0.64      0.58       107\n",
            "\n",
            "    accuracy                           0.85       654\n",
            "   macro avg       0.73      0.77      0.75       654\n",
            "weighted avg       0.86      0.85      0.86       654\n",
            "\n",
            "Model: Random Forest\n",
            "Accuracy: 0.882262996941896\n",
            "Classification Report:\n",
            "              precision    recall  f1-score   support\n",
            "\n",
            "           0       0.91      0.95      0.93       547\n",
            "           1       0.69      0.51      0.59       107\n",
            "\n",
            "    accuracy                           0.88       654\n",
            "   macro avg       0.80      0.73      0.76       654\n",
            "weighted avg       0.87      0.88      0.88       654\n",
            "\n",
            "Model: XGBoost\n",
            "Accuracy: 0.9036697247706422\n",
            "Classification Report:\n",
            "              precision    recall  f1-score   support\n",
            "\n",
            "           0       0.94      0.95      0.94       547\n",
            "           1       0.72      0.67      0.70       107\n",
            "\n",
            "    accuracy                           0.90       654\n",
            "   macro avg       0.83      0.81      0.82       654\n",
            "weighted avg       0.90      0.90      0.90       654\n",
            "\n"
          ]
        }
      ],
      "source": [
        "# Print initial results\n",
        "for name, result in initial_results.items():\n",
        "    print(f\"Model: {name}\")\n",
        "    print(f\"Accuracy: {result['accuracy']}\")\n",
        "    print(\"Classification Report:\")\n",
        "    print(result['classification_report'])\n",
        "\n"
      ]
    },
    {
      "cell_type": "markdown",
      "metadata": {},
      "source": [
        "# Hyperparameter Tuning"
      ]
    },
    {
      "cell_type": "code",
      "execution_count": 304,
      "metadata": {},
      "outputs": [],
      "source": [
        "# Hyperparameter tuning for RandomForest\n",
        "param_grid_rf = {\n",
        "    'classifier__n_estimators': [100, 200, 300],\n",
        "    'classifier__max_depth': [None, 10, 20, 30],\n",
        "    'classifier__min_samples_split': [2, 5, 10]\n",
        "}\n",
        "\n",
        "# Hyperparameter tuning for XGBoost\n",
        "param_grid_xgb = {\n",
        "    'classifier__n_estimators': [100, 200],\n",
        "    'classifier__max_depth': [3, 6, 10],\n",
        "    'classifier__learning_rate': [0.01, 0.1, 0.2]\n",
        "}\n",
        "\n"
      ]
    },
    {
      "cell_type": "code",
      "execution_count": 305,
      "metadata": {},
      "outputs": [
        {
          "data": {
            "text/html": [
              "<style>#sk-container-id-13 {color: black;background-color: white;}#sk-container-id-13 pre{padding: 0;}#sk-container-id-13 div.sk-toggleable {background-color: white;}#sk-container-id-13 label.sk-toggleable__label {cursor: pointer;display: block;width: 100%;margin-bottom: 0;padding: 0.3em;box-sizing: border-box;text-align: center;}#sk-container-id-13 label.sk-toggleable__label-arrow:before {content: \"▸\";float: left;margin-right: 0.25em;color: #696969;}#sk-container-id-13 label.sk-toggleable__label-arrow:hover:before {color: black;}#sk-container-id-13 div.sk-estimator:hover label.sk-toggleable__label-arrow:before {color: black;}#sk-container-id-13 div.sk-toggleable__content {max-height: 0;max-width: 0;overflow: hidden;text-align: left;background-color: #f0f8ff;}#sk-container-id-13 div.sk-toggleable__content pre {margin: 0.2em;color: black;border-radius: 0.25em;background-color: #f0f8ff;}#sk-container-id-13 input.sk-toggleable__control:checked~div.sk-toggleable__content {max-height: 200px;max-width: 100%;overflow: auto;}#sk-container-id-13 input.sk-toggleable__control:checked~label.sk-toggleable__label-arrow:before {content: \"▾\";}#sk-container-id-13 div.sk-estimator input.sk-toggleable__control:checked~label.sk-toggleable__label {background-color: #d4ebff;}#sk-container-id-13 div.sk-label input.sk-toggleable__control:checked~label.sk-toggleable__label {background-color: #d4ebff;}#sk-container-id-13 input.sk-hidden--visually {border: 0;clip: rect(1px 1px 1px 1px);clip: rect(1px, 1px, 1px, 1px);height: 1px;margin: -1px;overflow: hidden;padding: 0;position: absolute;width: 1px;}#sk-container-id-13 div.sk-estimator {font-family: monospace;background-color: #f0f8ff;border: 1px dotted black;border-radius: 0.25em;box-sizing: border-box;margin-bottom: 0.5em;}#sk-container-id-13 div.sk-estimator:hover {background-color: #d4ebff;}#sk-container-id-13 div.sk-parallel-item::after {content: \"\";width: 100%;border-bottom: 1px solid gray;flex-grow: 1;}#sk-container-id-13 div.sk-label:hover label.sk-toggleable__label {background-color: #d4ebff;}#sk-container-id-13 div.sk-serial::before {content: \"\";position: absolute;border-left: 1px solid gray;box-sizing: border-box;top: 0;bottom: 0;left: 50%;z-index: 0;}#sk-container-id-13 div.sk-serial {display: flex;flex-direction: column;align-items: center;background-color: white;padding-right: 0.2em;padding-left: 0.2em;position: relative;}#sk-container-id-13 div.sk-item {position: relative;z-index: 1;}#sk-container-id-13 div.sk-parallel {display: flex;align-items: stretch;justify-content: center;background-color: white;position: relative;}#sk-container-id-13 div.sk-item::before, #sk-container-id-13 div.sk-parallel-item::before {content: \"\";position: absolute;border-left: 1px solid gray;box-sizing: border-box;top: 0;bottom: 0;left: 50%;z-index: -1;}#sk-container-id-13 div.sk-parallel-item {display: flex;flex-direction: column;z-index: 1;position: relative;background-color: white;}#sk-container-id-13 div.sk-parallel-item:first-child::after {align-self: flex-end;width: 50%;}#sk-container-id-13 div.sk-parallel-item:last-child::after {align-self: flex-start;width: 50%;}#sk-container-id-13 div.sk-parallel-item:only-child::after {width: 0;}#sk-container-id-13 div.sk-dashed-wrapped {border: 1px dashed gray;margin: 0 0.4em 0.5em 0.4em;box-sizing: border-box;padding-bottom: 0.4em;background-color: white;}#sk-container-id-13 div.sk-label label {font-family: monospace;font-weight: bold;display: inline-block;line-height: 1.2em;}#sk-container-id-13 div.sk-label-container {text-align: center;}#sk-container-id-13 div.sk-container {/* jupyter's `normalize.less` sets `[hidden] { display: none; }` but bootstrap.min.css set `[hidden] { display: none !important; }` so we also need the `!important` here to be able to override the default hidden behavior on the sphinx rendered scikit-learn.org. See: https://github.com/scikit-learn/scikit-learn/issues/21755 */display: inline-block !important;position: relative;}#sk-container-id-13 div.sk-text-repr-fallback {display: none;}</style><div id=\"sk-container-id-13\" class=\"sk-top-container\"><div class=\"sk-text-repr-fallback\"><pre>GridSearchCV(cv=3,\n",
              "             estimator=Pipeline(steps=[(&#x27;preprocessor&#x27;,\n",
              "                                        ColumnTransformer(transformers=[(&#x27;num&#x27;,\n",
              "                                                                         StandardScaler(),\n",
              "                                                                         [&#x27;Tenure&#x27;,\n",
              "                                                                          &#x27;WarehouseToHome&#x27;,\n",
              "                                                                          &#x27;NumberOfDeviceRegistered&#x27;,\n",
              "                                                                          &#x27;SatisfactionScore&#x27;,\n",
              "                                                                          &#x27;NumberOfAddress&#x27;,\n",
              "                                                                          &#x27;DaySinceLastOrder&#x27;,\n",
              "                                                                          &#x27;CashbackAmount&#x27;]),\n",
              "                                                                        (&#x27;cat&#x27;,\n",
              "                                                                         OneHotEncoder(drop=&#x27;first&#x27;),\n",
              "                                                                         [&#x27;PreferedOrderCat&#x27;,\n",
              "                                                                          &#x27;MaritalStatus&#x27;])])),\n",
              "                                       (&#x27;classifier&#x27;,\n",
              "                                        RandomForestClassifier(random_state=42))]),\n",
              "             param_grid={&#x27;classifier__max_depth&#x27;: [None, 10, 20, 30],\n",
              "                         &#x27;classifier__min_samples_split&#x27;: [2, 5, 10],\n",
              "                         &#x27;classifier__n_estimators&#x27;: [100, 200, 300]},\n",
              "             scoring=&#x27;recall&#x27;)</pre><b>In a Jupyter environment, please rerun this cell to show the HTML representation or trust the notebook. <br />On GitHub, the HTML representation is unable to render, please try loading this page with nbviewer.org.</b></div><div class=\"sk-container\" hidden><div class=\"sk-item sk-dashed-wrapped\"><div class=\"sk-label-container\"><div class=\"sk-label sk-toggleable\"><input class=\"sk-toggleable__control sk-hidden--visually\" id=\"sk-estimator-id-97\" type=\"checkbox\" ><label for=\"sk-estimator-id-97\" class=\"sk-toggleable__label sk-toggleable__label-arrow\">GridSearchCV</label><div class=\"sk-toggleable__content\"><pre>GridSearchCV(cv=3,\n",
              "             estimator=Pipeline(steps=[(&#x27;preprocessor&#x27;,\n",
              "                                        ColumnTransformer(transformers=[(&#x27;num&#x27;,\n",
              "                                                                         StandardScaler(),\n",
              "                                                                         [&#x27;Tenure&#x27;,\n",
              "                                                                          &#x27;WarehouseToHome&#x27;,\n",
              "                                                                          &#x27;NumberOfDeviceRegistered&#x27;,\n",
              "                                                                          &#x27;SatisfactionScore&#x27;,\n",
              "                                                                          &#x27;NumberOfAddress&#x27;,\n",
              "                                                                          &#x27;DaySinceLastOrder&#x27;,\n",
              "                                                                          &#x27;CashbackAmount&#x27;]),\n",
              "                                                                        (&#x27;cat&#x27;,\n",
              "                                                                         OneHotEncoder(drop=&#x27;first&#x27;),\n",
              "                                                                         [&#x27;PreferedOrderCat&#x27;,\n",
              "                                                                          &#x27;MaritalStatus&#x27;])])),\n",
              "                                       (&#x27;classifier&#x27;,\n",
              "                                        RandomForestClassifier(random_state=42))]),\n",
              "             param_grid={&#x27;classifier__max_depth&#x27;: [None, 10, 20, 30],\n",
              "                         &#x27;classifier__min_samples_split&#x27;: [2, 5, 10],\n",
              "                         &#x27;classifier__n_estimators&#x27;: [100, 200, 300]},\n",
              "             scoring=&#x27;recall&#x27;)</pre></div></div></div><div class=\"sk-parallel\"><div class=\"sk-parallel-item\"><div class=\"sk-item\"><div class=\"sk-label-container\"><div class=\"sk-label sk-toggleable\"><input class=\"sk-toggleable__control sk-hidden--visually\" id=\"sk-estimator-id-98\" type=\"checkbox\" ><label for=\"sk-estimator-id-98\" class=\"sk-toggleable__label sk-toggleable__label-arrow\">estimator: Pipeline</label><div class=\"sk-toggleable__content\"><pre>Pipeline(steps=[(&#x27;preprocessor&#x27;,\n",
              "                 ColumnTransformer(transformers=[(&#x27;num&#x27;, StandardScaler(),\n",
              "                                                  [&#x27;Tenure&#x27;, &#x27;WarehouseToHome&#x27;,\n",
              "                                                   &#x27;NumberOfDeviceRegistered&#x27;,\n",
              "                                                   &#x27;SatisfactionScore&#x27;,\n",
              "                                                   &#x27;NumberOfAddress&#x27;,\n",
              "                                                   &#x27;DaySinceLastOrder&#x27;,\n",
              "                                                   &#x27;CashbackAmount&#x27;]),\n",
              "                                                 (&#x27;cat&#x27;,\n",
              "                                                  OneHotEncoder(drop=&#x27;first&#x27;),\n",
              "                                                  [&#x27;PreferedOrderCat&#x27;,\n",
              "                                                   &#x27;MaritalStatus&#x27;])])),\n",
              "                (&#x27;classifier&#x27;, RandomForestClassifier(random_state=42))])</pre></div></div></div><div class=\"sk-serial\"><div class=\"sk-item\"><div class=\"sk-serial\"><div class=\"sk-item sk-dashed-wrapped\"><div class=\"sk-label-container\"><div class=\"sk-label sk-toggleable\"><input class=\"sk-toggleable__control sk-hidden--visually\" id=\"sk-estimator-id-99\" type=\"checkbox\" ><label for=\"sk-estimator-id-99\" class=\"sk-toggleable__label sk-toggleable__label-arrow\">preprocessor: ColumnTransformer</label><div class=\"sk-toggleable__content\"><pre>ColumnTransformer(transformers=[(&#x27;num&#x27;, StandardScaler(),\n",
              "                                 [&#x27;Tenure&#x27;, &#x27;WarehouseToHome&#x27;,\n",
              "                                  &#x27;NumberOfDeviceRegistered&#x27;,\n",
              "                                  &#x27;SatisfactionScore&#x27;, &#x27;NumberOfAddress&#x27;,\n",
              "                                  &#x27;DaySinceLastOrder&#x27;, &#x27;CashbackAmount&#x27;]),\n",
              "                                (&#x27;cat&#x27;, OneHotEncoder(drop=&#x27;first&#x27;),\n",
              "                                 [&#x27;PreferedOrderCat&#x27;, &#x27;MaritalStatus&#x27;])])</pre></div></div></div><div class=\"sk-parallel\"><div class=\"sk-parallel-item\"><div class=\"sk-item\"><div class=\"sk-label-container\"><div class=\"sk-label sk-toggleable\"><input class=\"sk-toggleable__control sk-hidden--visually\" id=\"sk-estimator-id-100\" type=\"checkbox\" ><label for=\"sk-estimator-id-100\" class=\"sk-toggleable__label sk-toggleable__label-arrow\">num</label><div class=\"sk-toggleable__content\"><pre>[&#x27;Tenure&#x27;, &#x27;WarehouseToHome&#x27;, &#x27;NumberOfDeviceRegistered&#x27;, &#x27;SatisfactionScore&#x27;, &#x27;NumberOfAddress&#x27;, &#x27;DaySinceLastOrder&#x27;, &#x27;CashbackAmount&#x27;]</pre></div></div></div><div class=\"sk-serial\"><div class=\"sk-item\"><div class=\"sk-estimator sk-toggleable\"><input class=\"sk-toggleable__control sk-hidden--visually\" id=\"sk-estimator-id-101\" type=\"checkbox\" ><label for=\"sk-estimator-id-101\" class=\"sk-toggleable__label sk-toggleable__label-arrow\">StandardScaler</label><div class=\"sk-toggleable__content\"><pre>StandardScaler()</pre></div></div></div></div></div></div><div class=\"sk-parallel-item\"><div class=\"sk-item\"><div class=\"sk-label-container\"><div class=\"sk-label sk-toggleable\"><input class=\"sk-toggleable__control sk-hidden--visually\" id=\"sk-estimator-id-102\" type=\"checkbox\" ><label for=\"sk-estimator-id-102\" class=\"sk-toggleable__label sk-toggleable__label-arrow\">cat</label><div class=\"sk-toggleable__content\"><pre>[&#x27;PreferedOrderCat&#x27;, &#x27;MaritalStatus&#x27;]</pre></div></div></div><div class=\"sk-serial\"><div class=\"sk-item\"><div class=\"sk-estimator sk-toggleable\"><input class=\"sk-toggleable__control sk-hidden--visually\" id=\"sk-estimator-id-103\" type=\"checkbox\" ><label for=\"sk-estimator-id-103\" class=\"sk-toggleable__label sk-toggleable__label-arrow\">OneHotEncoder</label><div class=\"sk-toggleable__content\"><pre>OneHotEncoder(drop=&#x27;first&#x27;)</pre></div></div></div></div></div></div></div></div><div class=\"sk-item\"><div class=\"sk-estimator sk-toggleable\"><input class=\"sk-toggleable__control sk-hidden--visually\" id=\"sk-estimator-id-104\" type=\"checkbox\" ><label for=\"sk-estimator-id-104\" class=\"sk-toggleable__label sk-toggleable__label-arrow\">RandomForestClassifier</label><div class=\"sk-toggleable__content\"><pre>RandomForestClassifier(random_state=42)</pre></div></div></div></div></div></div></div></div></div></div></div></div>"
            ],
            "text/plain": [
              "GridSearchCV(cv=3,\n",
              "             estimator=Pipeline(steps=[('preprocessor',\n",
              "                                        ColumnTransformer(transformers=[('num',\n",
              "                                                                         StandardScaler(),\n",
              "                                                                         ['Tenure',\n",
              "                                                                          'WarehouseToHome',\n",
              "                                                                          'NumberOfDeviceRegistered',\n",
              "                                                                          'SatisfactionScore',\n",
              "                                                                          'NumberOfAddress',\n",
              "                                                                          'DaySinceLastOrder',\n",
              "                                                                          'CashbackAmount']),\n",
              "                                                                        ('cat',\n",
              "                                                                         OneHotEncoder(drop='first'),\n",
              "                                                                         ['PreferedOrderCat',\n",
              "                                                                          'MaritalStatus'])])),\n",
              "                                       ('classifier',\n",
              "                                        RandomForestClassifier(random_state=42))]),\n",
              "             param_grid={'classifier__max_depth': [None, 10, 20, 30],\n",
              "                         'classifier__min_samples_split': [2, 5, 10],\n",
              "                         'classifier__n_estimators': [100, 200, 300]},\n",
              "             scoring='recall')"
            ]
          },
          "execution_count": 305,
          "metadata": {},
          "output_type": "execute_result"
        }
      ],
      "source": [
        "# Perform GridSearchCV for RandomForest\n",
        "grid_search_rf = GridSearchCV(random_forest_model, param_grid_rf, cv=3, scoring='recall')\n",
        "grid_search_rf.fit(X_train, y_train)"
      ]
    },
    {
      "cell_type": "code",
      "execution_count": 306,
      "metadata": {},
      "outputs": [
        {
          "data": {
            "text/html": [
              "<style>#sk-container-id-14 {color: black;background-color: white;}#sk-container-id-14 pre{padding: 0;}#sk-container-id-14 div.sk-toggleable {background-color: white;}#sk-container-id-14 label.sk-toggleable__label {cursor: pointer;display: block;width: 100%;margin-bottom: 0;padding: 0.3em;box-sizing: border-box;text-align: center;}#sk-container-id-14 label.sk-toggleable__label-arrow:before {content: \"▸\";float: left;margin-right: 0.25em;color: #696969;}#sk-container-id-14 label.sk-toggleable__label-arrow:hover:before {color: black;}#sk-container-id-14 div.sk-estimator:hover label.sk-toggleable__label-arrow:before {color: black;}#sk-container-id-14 div.sk-toggleable__content {max-height: 0;max-width: 0;overflow: hidden;text-align: left;background-color: #f0f8ff;}#sk-container-id-14 div.sk-toggleable__content pre {margin: 0.2em;color: black;border-radius: 0.25em;background-color: #f0f8ff;}#sk-container-id-14 input.sk-toggleable__control:checked~div.sk-toggleable__content {max-height: 200px;max-width: 100%;overflow: auto;}#sk-container-id-14 input.sk-toggleable__control:checked~label.sk-toggleable__label-arrow:before {content: \"▾\";}#sk-container-id-14 div.sk-estimator input.sk-toggleable__control:checked~label.sk-toggleable__label {background-color: #d4ebff;}#sk-container-id-14 div.sk-label input.sk-toggleable__control:checked~label.sk-toggleable__label {background-color: #d4ebff;}#sk-container-id-14 input.sk-hidden--visually {border: 0;clip: rect(1px 1px 1px 1px);clip: rect(1px, 1px, 1px, 1px);height: 1px;margin: -1px;overflow: hidden;padding: 0;position: absolute;width: 1px;}#sk-container-id-14 div.sk-estimator {font-family: monospace;background-color: #f0f8ff;border: 1px dotted black;border-radius: 0.25em;box-sizing: border-box;margin-bottom: 0.5em;}#sk-container-id-14 div.sk-estimator:hover {background-color: #d4ebff;}#sk-container-id-14 div.sk-parallel-item::after {content: \"\";width: 100%;border-bottom: 1px solid gray;flex-grow: 1;}#sk-container-id-14 div.sk-label:hover label.sk-toggleable__label {background-color: #d4ebff;}#sk-container-id-14 div.sk-serial::before {content: \"\";position: absolute;border-left: 1px solid gray;box-sizing: border-box;top: 0;bottom: 0;left: 50%;z-index: 0;}#sk-container-id-14 div.sk-serial {display: flex;flex-direction: column;align-items: center;background-color: white;padding-right: 0.2em;padding-left: 0.2em;position: relative;}#sk-container-id-14 div.sk-item {position: relative;z-index: 1;}#sk-container-id-14 div.sk-parallel {display: flex;align-items: stretch;justify-content: center;background-color: white;position: relative;}#sk-container-id-14 div.sk-item::before, #sk-container-id-14 div.sk-parallel-item::before {content: \"\";position: absolute;border-left: 1px solid gray;box-sizing: border-box;top: 0;bottom: 0;left: 50%;z-index: -1;}#sk-container-id-14 div.sk-parallel-item {display: flex;flex-direction: column;z-index: 1;position: relative;background-color: white;}#sk-container-id-14 div.sk-parallel-item:first-child::after {align-self: flex-end;width: 50%;}#sk-container-id-14 div.sk-parallel-item:last-child::after {align-self: flex-start;width: 50%;}#sk-container-id-14 div.sk-parallel-item:only-child::after {width: 0;}#sk-container-id-14 div.sk-dashed-wrapped {border: 1px dashed gray;margin: 0 0.4em 0.5em 0.4em;box-sizing: border-box;padding-bottom: 0.4em;background-color: white;}#sk-container-id-14 div.sk-label label {font-family: monospace;font-weight: bold;display: inline-block;line-height: 1.2em;}#sk-container-id-14 div.sk-label-container {text-align: center;}#sk-container-id-14 div.sk-container {/* jupyter's `normalize.less` sets `[hidden] { display: none; }` but bootstrap.min.css set `[hidden] { display: none !important; }` so we also need the `!important` here to be able to override the default hidden behavior on the sphinx rendered scikit-learn.org. See: https://github.com/scikit-learn/scikit-learn/issues/21755 */display: inline-block !important;position: relative;}#sk-container-id-14 div.sk-text-repr-fallback {display: none;}</style><div id=\"sk-container-id-14\" class=\"sk-top-container\"><div class=\"sk-text-repr-fallback\"><pre>GridSearchCV(cv=3,\n",
              "             estimator=Pipeline(steps=[(&#x27;preprocessor&#x27;,\n",
              "                                        ColumnTransformer(transformers=[(&#x27;num&#x27;,\n",
              "                                                                         StandardScaler(),\n",
              "                                                                         [&#x27;Tenure&#x27;,\n",
              "                                                                          &#x27;WarehouseToHome&#x27;,\n",
              "                                                                          &#x27;NumberOfDeviceRegistered&#x27;,\n",
              "                                                                          &#x27;SatisfactionScore&#x27;,\n",
              "                                                                          &#x27;NumberOfAddress&#x27;,\n",
              "                                                                          &#x27;DaySinceLastOrder&#x27;,\n",
              "                                                                          &#x27;CashbackAmount&#x27;]),\n",
              "                                                                        (&#x27;cat&#x27;,\n",
              "                                                                         OneHotEncoder(drop=&#x27;first&#x27;),\n",
              "                                                                         [&#x27;PreferedOrderCat&#x27;,\n",
              "                                                                          &#x27;MaritalStatus&#x27;])])),\n",
              "                                       (&#x27;classifier&#x27;,\n",
              "                                        XGBClassifie...\n",
              "                                                      max_delta_step=None,\n",
              "                                                      max_depth=None,\n",
              "                                                      max_leaves=None,\n",
              "                                                      min_child_weight=None,\n",
              "                                                      missing=nan,\n",
              "                                                      monotone_constraints=None,\n",
              "                                                      multi_strategy=None,\n",
              "                                                      n_estimators=None,\n",
              "                                                      n_jobs=None,\n",
              "                                                      num_parallel_tree=None,\n",
              "                                                      random_state=42, ...))]),\n",
              "             param_grid={&#x27;classifier__learning_rate&#x27;: [0.01, 0.1, 0.2],\n",
              "                         &#x27;classifier__max_depth&#x27;: [3, 6, 10],\n",
              "                         &#x27;classifier__n_estimators&#x27;: [100, 200]},\n",
              "             scoring=&#x27;recall&#x27;)</pre><b>In a Jupyter environment, please rerun this cell to show the HTML representation or trust the notebook. <br />On GitHub, the HTML representation is unable to render, please try loading this page with nbviewer.org.</b></div><div class=\"sk-container\" hidden><div class=\"sk-item sk-dashed-wrapped\"><div class=\"sk-label-container\"><div class=\"sk-label sk-toggleable\"><input class=\"sk-toggleable__control sk-hidden--visually\" id=\"sk-estimator-id-105\" type=\"checkbox\" ><label for=\"sk-estimator-id-105\" class=\"sk-toggleable__label sk-toggleable__label-arrow\">GridSearchCV</label><div class=\"sk-toggleable__content\"><pre>GridSearchCV(cv=3,\n",
              "             estimator=Pipeline(steps=[(&#x27;preprocessor&#x27;,\n",
              "                                        ColumnTransformer(transformers=[(&#x27;num&#x27;,\n",
              "                                                                         StandardScaler(),\n",
              "                                                                         [&#x27;Tenure&#x27;,\n",
              "                                                                          &#x27;WarehouseToHome&#x27;,\n",
              "                                                                          &#x27;NumberOfDeviceRegistered&#x27;,\n",
              "                                                                          &#x27;SatisfactionScore&#x27;,\n",
              "                                                                          &#x27;NumberOfAddress&#x27;,\n",
              "                                                                          &#x27;DaySinceLastOrder&#x27;,\n",
              "                                                                          &#x27;CashbackAmount&#x27;]),\n",
              "                                                                        (&#x27;cat&#x27;,\n",
              "                                                                         OneHotEncoder(drop=&#x27;first&#x27;),\n",
              "                                                                         [&#x27;PreferedOrderCat&#x27;,\n",
              "                                                                          &#x27;MaritalStatus&#x27;])])),\n",
              "                                       (&#x27;classifier&#x27;,\n",
              "                                        XGBClassifie...\n",
              "                                                      max_delta_step=None,\n",
              "                                                      max_depth=None,\n",
              "                                                      max_leaves=None,\n",
              "                                                      min_child_weight=None,\n",
              "                                                      missing=nan,\n",
              "                                                      monotone_constraints=None,\n",
              "                                                      multi_strategy=None,\n",
              "                                                      n_estimators=None,\n",
              "                                                      n_jobs=None,\n",
              "                                                      num_parallel_tree=None,\n",
              "                                                      random_state=42, ...))]),\n",
              "             param_grid={&#x27;classifier__learning_rate&#x27;: [0.01, 0.1, 0.2],\n",
              "                         &#x27;classifier__max_depth&#x27;: [3, 6, 10],\n",
              "                         &#x27;classifier__n_estimators&#x27;: [100, 200]},\n",
              "             scoring=&#x27;recall&#x27;)</pre></div></div></div><div class=\"sk-parallel\"><div class=\"sk-parallel-item\"><div class=\"sk-item\"><div class=\"sk-label-container\"><div class=\"sk-label sk-toggleable\"><input class=\"sk-toggleable__control sk-hidden--visually\" id=\"sk-estimator-id-106\" type=\"checkbox\" ><label for=\"sk-estimator-id-106\" class=\"sk-toggleable__label sk-toggleable__label-arrow\">estimator: Pipeline</label><div class=\"sk-toggleable__content\"><pre>Pipeline(steps=[(&#x27;preprocessor&#x27;,\n",
              "                 ColumnTransformer(transformers=[(&#x27;num&#x27;, StandardScaler(),\n",
              "                                                  [&#x27;Tenure&#x27;, &#x27;WarehouseToHome&#x27;,\n",
              "                                                   &#x27;NumberOfDeviceRegistered&#x27;,\n",
              "                                                   &#x27;SatisfactionScore&#x27;,\n",
              "                                                   &#x27;NumberOfAddress&#x27;,\n",
              "                                                   &#x27;DaySinceLastOrder&#x27;,\n",
              "                                                   &#x27;CashbackAmount&#x27;]),\n",
              "                                                 (&#x27;cat&#x27;,\n",
              "                                                  OneHotEncoder(drop=&#x27;first&#x27;),\n",
              "                                                  [&#x27;PreferedOrderCat&#x27;,\n",
              "                                                   &#x27;MaritalStatus&#x27;])])),\n",
              "                (&#x27;classifier&#x27;,\n",
              "                 XGBClassifier(base_score=None, booster=No...\n",
              "                               feature_types=None, gamma=None, grow_policy=None,\n",
              "                               importance_type=None,\n",
              "                               interaction_constraints=None, learning_rate=None,\n",
              "                               max_bin=None, max_cat_threshold=None,\n",
              "                               max_cat_to_onehot=None, max_delta_step=None,\n",
              "                               max_depth=None, max_leaves=None,\n",
              "                               min_child_weight=None, missing=nan,\n",
              "                               monotone_constraints=None, multi_strategy=None,\n",
              "                               n_estimators=None, n_jobs=None,\n",
              "                               num_parallel_tree=None, random_state=42, ...))])</pre></div></div></div><div class=\"sk-serial\"><div class=\"sk-item\"><div class=\"sk-serial\"><div class=\"sk-item sk-dashed-wrapped\"><div class=\"sk-label-container\"><div class=\"sk-label sk-toggleable\"><input class=\"sk-toggleable__control sk-hidden--visually\" id=\"sk-estimator-id-107\" type=\"checkbox\" ><label for=\"sk-estimator-id-107\" class=\"sk-toggleable__label sk-toggleable__label-arrow\">preprocessor: ColumnTransformer</label><div class=\"sk-toggleable__content\"><pre>ColumnTransformer(transformers=[(&#x27;num&#x27;, StandardScaler(),\n",
              "                                 [&#x27;Tenure&#x27;, &#x27;WarehouseToHome&#x27;,\n",
              "                                  &#x27;NumberOfDeviceRegistered&#x27;,\n",
              "                                  &#x27;SatisfactionScore&#x27;, &#x27;NumberOfAddress&#x27;,\n",
              "                                  &#x27;DaySinceLastOrder&#x27;, &#x27;CashbackAmount&#x27;]),\n",
              "                                (&#x27;cat&#x27;, OneHotEncoder(drop=&#x27;first&#x27;),\n",
              "                                 [&#x27;PreferedOrderCat&#x27;, &#x27;MaritalStatus&#x27;])])</pre></div></div></div><div class=\"sk-parallel\"><div class=\"sk-parallel-item\"><div class=\"sk-item\"><div class=\"sk-label-container\"><div class=\"sk-label sk-toggleable\"><input class=\"sk-toggleable__control sk-hidden--visually\" id=\"sk-estimator-id-108\" type=\"checkbox\" ><label for=\"sk-estimator-id-108\" class=\"sk-toggleable__label sk-toggleable__label-arrow\">num</label><div class=\"sk-toggleable__content\"><pre>[&#x27;Tenure&#x27;, &#x27;WarehouseToHome&#x27;, &#x27;NumberOfDeviceRegistered&#x27;, &#x27;SatisfactionScore&#x27;, &#x27;NumberOfAddress&#x27;, &#x27;DaySinceLastOrder&#x27;, &#x27;CashbackAmount&#x27;]</pre></div></div></div><div class=\"sk-serial\"><div class=\"sk-item\"><div class=\"sk-estimator sk-toggleable\"><input class=\"sk-toggleable__control sk-hidden--visually\" id=\"sk-estimator-id-109\" type=\"checkbox\" ><label for=\"sk-estimator-id-109\" class=\"sk-toggleable__label sk-toggleable__label-arrow\">StandardScaler</label><div class=\"sk-toggleable__content\"><pre>StandardScaler()</pre></div></div></div></div></div></div><div class=\"sk-parallel-item\"><div class=\"sk-item\"><div class=\"sk-label-container\"><div class=\"sk-label sk-toggleable\"><input class=\"sk-toggleable__control sk-hidden--visually\" id=\"sk-estimator-id-110\" type=\"checkbox\" ><label for=\"sk-estimator-id-110\" class=\"sk-toggleable__label sk-toggleable__label-arrow\">cat</label><div class=\"sk-toggleable__content\"><pre>[&#x27;PreferedOrderCat&#x27;, &#x27;MaritalStatus&#x27;]</pre></div></div></div><div class=\"sk-serial\"><div class=\"sk-item\"><div class=\"sk-estimator sk-toggleable\"><input class=\"sk-toggleable__control sk-hidden--visually\" id=\"sk-estimator-id-111\" type=\"checkbox\" ><label for=\"sk-estimator-id-111\" class=\"sk-toggleable__label sk-toggleable__label-arrow\">OneHotEncoder</label><div class=\"sk-toggleable__content\"><pre>OneHotEncoder(drop=&#x27;first&#x27;)</pre></div></div></div></div></div></div></div></div><div class=\"sk-item\"><div class=\"sk-estimator sk-toggleable\"><input class=\"sk-toggleable__control sk-hidden--visually\" id=\"sk-estimator-id-112\" type=\"checkbox\" ><label for=\"sk-estimator-id-112\" class=\"sk-toggleable__label sk-toggleable__label-arrow\">XGBClassifier</label><div class=\"sk-toggleable__content\"><pre>XGBClassifier(base_score=None, booster=None, callbacks=None,\n",
              "              colsample_bylevel=None, colsample_bynode=None,\n",
              "              colsample_bytree=None, device=None, early_stopping_rounds=None,\n",
              "              enable_categorical=False, eval_metric=&#x27;logloss&#x27;,\n",
              "              feature_types=None, gamma=None, grow_policy=None,\n",
              "              importance_type=None, interaction_constraints=None,\n",
              "              learning_rate=None, max_bin=None, max_cat_threshold=None,\n",
              "              max_cat_to_onehot=None, max_delta_step=None, max_depth=None,\n",
              "              max_leaves=None, min_child_weight=None, missing=nan,\n",
              "              monotone_constraints=None, multi_strategy=None, n_estimators=None,\n",
              "              n_jobs=None, num_parallel_tree=None, random_state=42, ...)</pre></div></div></div></div></div></div></div></div></div></div></div></div>"
            ],
            "text/plain": [
              "GridSearchCV(cv=3,\n",
              "             estimator=Pipeline(steps=[('preprocessor',\n",
              "                                        ColumnTransformer(transformers=[('num',\n",
              "                                                                         StandardScaler(),\n",
              "                                                                         ['Tenure',\n",
              "                                                                          'WarehouseToHome',\n",
              "                                                                          'NumberOfDeviceRegistered',\n",
              "                                                                          'SatisfactionScore',\n",
              "                                                                          'NumberOfAddress',\n",
              "                                                                          'DaySinceLastOrder',\n",
              "                                                                          'CashbackAmount']),\n",
              "                                                                        ('cat',\n",
              "                                                                         OneHotEncoder(drop='first'),\n",
              "                                                                         ['PreferedOrderCat',\n",
              "                                                                          'MaritalStatus'])])),\n",
              "                                       ('classifier',\n",
              "                                        XGBClassifie...\n",
              "                                                      max_delta_step=None,\n",
              "                                                      max_depth=None,\n",
              "                                                      max_leaves=None,\n",
              "                                                      min_child_weight=None,\n",
              "                                                      missing=nan,\n",
              "                                                      monotone_constraints=None,\n",
              "                                                      multi_strategy=None,\n",
              "                                                      n_estimators=None,\n",
              "                                                      n_jobs=None,\n",
              "                                                      num_parallel_tree=None,\n",
              "                                                      random_state=42, ...))]),\n",
              "             param_grid={'classifier__learning_rate': [0.01, 0.1, 0.2],\n",
              "                         'classifier__max_depth': [3, 6, 10],\n",
              "                         'classifier__n_estimators': [100, 200]},\n",
              "             scoring='recall')"
            ]
          },
          "execution_count": 306,
          "metadata": {},
          "output_type": "execute_result"
        }
      ],
      "source": [
        "# Perform GridSearchCV for XGBoost\n",
        "grid_search_xgb = GridSearchCV(xgboost_model, param_grid_xgb, cv=3, scoring='recall')\n",
        "grid_search_xgb.fit(X_train, y_train)"
      ]
    },
    {
      "cell_type": "code",
      "execution_count": 307,
      "metadata": {},
      "outputs": [
        {
          "name": "stdout",
          "output_type": "stream",
          "text": [
            "Random Forest Best Parameters: {'classifier__max_depth': 20, 'classifier__min_samples_split': 2, 'classifier__n_estimators': 300}\n",
            "Random Forest Accuracy: 0.8868501529051988\n",
            "Random Forest Classification Report:\n",
            "{'0': {'precision': 0.9141856392294221, 'recall': 0.9542961608775137, 'f1-score': 0.9338103756708408, 'support': 547}, '1': {'precision': 0.6987951807228916, 'recall': 0.5420560747663551, 'f1-score': 0.6105263157894736, 'support': 107}, 'accuracy': 0.8868501529051988, 'macro avg': {'precision': 0.8064904099761568, 'recall': 0.7481761178219344, 'f1-score': 0.7721683457301571, 'support': 654}, 'weighted avg': {'precision': 0.8789459158957849, 'recall': 0.8868501529051988, 'f1-score': 0.8809183352926966, 'support': 654}}\n",
            "XGBoost Best Parameters: {'classifier__learning_rate': 0.2, 'classifier__max_depth': 6, 'classifier__n_estimators': 200}\n",
            "XGBoost Accuracy: 0.9021406727828746\n",
            "XGBoost Classification Report:\n",
            "{'0': {'precision': 0.9351351351351351, 'recall': 0.9488117001828154, 'f1-score': 0.941923774954628, 'support': 547}, '1': {'precision': 0.7171717171717171, 'recall': 0.6635514018691588, 'f1-score': 0.6893203883495145, 'support': 107}, 'accuracy': 0.9021406727828746, 'macro avg': {'precision': 0.8261534261534261, 'recall': 0.8061815510259871, 'f1-score': 0.8156220816520712, 'support': 654}, 'weighted avg': {'precision': 0.899474453602894, 'recall': 0.9021406727828746, 'f1-score': 0.900595697941253, 'support': 654}}\n"
          ]
        }
      ],
      "source": [
        "# Evaluate the best models\n",
        "best_rf_model = grid_search_rf.best_estimator_\n",
        "best_xgb_model = grid_search_xgb.best_estimator_\n",
        "\n",
        "rf_y_pred = best_rf_model.predict(X_test)\n",
        "xgb_y_pred = best_xgb_model.predict(X_test)\n",
        "\n",
        "rf_results = {\n",
        "    'accuracy': accuracy_score(y_test, rf_y_pred),\n",
        "    'classification_report': classification_report(y_test, rf_y_pred, output_dict=True)\n",
        "}\n",
        "\n",
        "xgb_results = {\n",
        "    'accuracy': accuracy_score(y_test, xgb_y_pred),\n",
        "    'classification_report': classification_report(y_test, xgb_y_pred, output_dict=True)\n",
        "}\n",
        "\n",
        "\n",
        "# Print tuned results\n",
        "print(\"Random Forest Best Parameters:\", grid_search_rf.best_params_)\n",
        "print(\"Random Forest Accuracy:\", rf_results['accuracy'])\n",
        "print(\"Random Forest Classification Report:\")\n",
        "print(rf_results['classification_report'])\n",
        "\n",
        "print(\"XGBoost Best Parameters:\", grid_search_xgb.best_params_)\n",
        "print(\"XGBoost Accuracy:\", xgb_results['accuracy'])\n",
        "print(\"XGBoost Classification Report:\")\n",
        "print(xgb_results['classification_report'])\n"
      ]
    },
    {
      "cell_type": "markdown",
      "metadata": {},
      "source": [
        "# Second Tuning"
      ]
    },
    {
      "cell_type": "code",
      "execution_count": 308,
      "metadata": {},
      "outputs": [
        {
          "name": "stdout",
          "output_type": "stream",
          "text": [
            "Fitting 5 folds for each of 108 candidates, totalling 540 fits\n"
          ]
        },
        {
          "data": {
            "text/html": [
              "<style>#sk-container-id-15 {color: black;background-color: white;}#sk-container-id-15 pre{padding: 0;}#sk-container-id-15 div.sk-toggleable {background-color: white;}#sk-container-id-15 label.sk-toggleable__label {cursor: pointer;display: block;width: 100%;margin-bottom: 0;padding: 0.3em;box-sizing: border-box;text-align: center;}#sk-container-id-15 label.sk-toggleable__label-arrow:before {content: \"▸\";float: left;margin-right: 0.25em;color: #696969;}#sk-container-id-15 label.sk-toggleable__label-arrow:hover:before {color: black;}#sk-container-id-15 div.sk-estimator:hover label.sk-toggleable__label-arrow:before {color: black;}#sk-container-id-15 div.sk-toggleable__content {max-height: 0;max-width: 0;overflow: hidden;text-align: left;background-color: #f0f8ff;}#sk-container-id-15 div.sk-toggleable__content pre {margin: 0.2em;color: black;border-radius: 0.25em;background-color: #f0f8ff;}#sk-container-id-15 input.sk-toggleable__control:checked~div.sk-toggleable__content {max-height: 200px;max-width: 100%;overflow: auto;}#sk-container-id-15 input.sk-toggleable__control:checked~label.sk-toggleable__label-arrow:before {content: \"▾\";}#sk-container-id-15 div.sk-estimator input.sk-toggleable__control:checked~label.sk-toggleable__label {background-color: #d4ebff;}#sk-container-id-15 div.sk-label input.sk-toggleable__control:checked~label.sk-toggleable__label {background-color: #d4ebff;}#sk-container-id-15 input.sk-hidden--visually {border: 0;clip: rect(1px 1px 1px 1px);clip: rect(1px, 1px, 1px, 1px);height: 1px;margin: -1px;overflow: hidden;padding: 0;position: absolute;width: 1px;}#sk-container-id-15 div.sk-estimator {font-family: monospace;background-color: #f0f8ff;border: 1px dotted black;border-radius: 0.25em;box-sizing: border-box;margin-bottom: 0.5em;}#sk-container-id-15 div.sk-estimator:hover {background-color: #d4ebff;}#sk-container-id-15 div.sk-parallel-item::after {content: \"\";width: 100%;border-bottom: 1px solid gray;flex-grow: 1;}#sk-container-id-15 div.sk-label:hover label.sk-toggleable__label {background-color: #d4ebff;}#sk-container-id-15 div.sk-serial::before {content: \"\";position: absolute;border-left: 1px solid gray;box-sizing: border-box;top: 0;bottom: 0;left: 50%;z-index: 0;}#sk-container-id-15 div.sk-serial {display: flex;flex-direction: column;align-items: center;background-color: white;padding-right: 0.2em;padding-left: 0.2em;position: relative;}#sk-container-id-15 div.sk-item {position: relative;z-index: 1;}#sk-container-id-15 div.sk-parallel {display: flex;align-items: stretch;justify-content: center;background-color: white;position: relative;}#sk-container-id-15 div.sk-item::before, #sk-container-id-15 div.sk-parallel-item::before {content: \"\";position: absolute;border-left: 1px solid gray;box-sizing: border-box;top: 0;bottom: 0;left: 50%;z-index: -1;}#sk-container-id-15 div.sk-parallel-item {display: flex;flex-direction: column;z-index: 1;position: relative;background-color: white;}#sk-container-id-15 div.sk-parallel-item:first-child::after {align-self: flex-end;width: 50%;}#sk-container-id-15 div.sk-parallel-item:last-child::after {align-self: flex-start;width: 50%;}#sk-container-id-15 div.sk-parallel-item:only-child::after {width: 0;}#sk-container-id-15 div.sk-dashed-wrapped {border: 1px dashed gray;margin: 0 0.4em 0.5em 0.4em;box-sizing: border-box;padding-bottom: 0.4em;background-color: white;}#sk-container-id-15 div.sk-label label {font-family: monospace;font-weight: bold;display: inline-block;line-height: 1.2em;}#sk-container-id-15 div.sk-label-container {text-align: center;}#sk-container-id-15 div.sk-container {/* jupyter's `normalize.less` sets `[hidden] { display: none; }` but bootstrap.min.css set `[hidden] { display: none !important; }` so we also need the `!important` here to be able to override the default hidden behavior on the sphinx rendered scikit-learn.org. See: https://github.com/scikit-learn/scikit-learn/issues/21755 */display: inline-block !important;position: relative;}#sk-container-id-15 div.sk-text-repr-fallback {display: none;}</style><div id=\"sk-container-id-15\" class=\"sk-top-container\"><div class=\"sk-text-repr-fallback\"><pre>GridSearchCV(cv=5,\n",
              "             estimator=Pipeline(steps=[(&#x27;preprocessor&#x27;,\n",
              "                                        ColumnTransformer(transformers=[(&#x27;num&#x27;,\n",
              "                                                                         StandardScaler(),\n",
              "                                                                         [&#x27;Tenure&#x27;,\n",
              "                                                                          &#x27;WarehouseToHome&#x27;,\n",
              "                                                                          &#x27;NumberOfDeviceRegistered&#x27;,\n",
              "                                                                          &#x27;SatisfactionScore&#x27;,\n",
              "                                                                          &#x27;NumberOfAddress&#x27;,\n",
              "                                                                          &#x27;DaySinceLastOrder&#x27;,\n",
              "                                                                          &#x27;CashbackAmount&#x27;]),\n",
              "                                                                        (&#x27;cat&#x27;,\n",
              "                                                                         OneHotEncoder(drop=&#x27;first&#x27;),\n",
              "                                                                         [&#x27;PreferedOrderCat&#x27;,\n",
              "                                                                          &#x27;MaritalStatus&#x27;])])),\n",
              "                                       (&#x27;classifier&#x27;,\n",
              "                                        XGBClassifie...\n",
              "                                                      monotone_constraints=None,\n",
              "                                                      multi_strategy=None,\n",
              "                                                      n_estimators=None,\n",
              "                                                      n_jobs=None,\n",
              "                                                      num_parallel_tree=None,\n",
              "                                                      random_state=42, ...))]),\n",
              "             param_grid={&#x27;classifier__colsample_bytree&#x27;: [0.8, 1.0],\n",
              "                         &#x27;classifier__learning_rate&#x27;: [0.01, 0.05, 0.1],\n",
              "                         &#x27;classifier__max_depth&#x27;: [3, 6, 10],\n",
              "                         &#x27;classifier__n_estimators&#x27;: [100, 200, 300],\n",
              "                         &#x27;classifier__subsample&#x27;: [0.8, 1.0]},\n",
              "             scoring=&#x27;accuracy&#x27;, verbose=1)</pre><b>In a Jupyter environment, please rerun this cell to show the HTML representation or trust the notebook. <br />On GitHub, the HTML representation is unable to render, please try loading this page with nbviewer.org.</b></div><div class=\"sk-container\" hidden><div class=\"sk-item sk-dashed-wrapped\"><div class=\"sk-label-container\"><div class=\"sk-label sk-toggleable\"><input class=\"sk-toggleable__control sk-hidden--visually\" id=\"sk-estimator-id-113\" type=\"checkbox\" ><label for=\"sk-estimator-id-113\" class=\"sk-toggleable__label sk-toggleable__label-arrow\">GridSearchCV</label><div class=\"sk-toggleable__content\"><pre>GridSearchCV(cv=5,\n",
              "             estimator=Pipeline(steps=[(&#x27;preprocessor&#x27;,\n",
              "                                        ColumnTransformer(transformers=[(&#x27;num&#x27;,\n",
              "                                                                         StandardScaler(),\n",
              "                                                                         [&#x27;Tenure&#x27;,\n",
              "                                                                          &#x27;WarehouseToHome&#x27;,\n",
              "                                                                          &#x27;NumberOfDeviceRegistered&#x27;,\n",
              "                                                                          &#x27;SatisfactionScore&#x27;,\n",
              "                                                                          &#x27;NumberOfAddress&#x27;,\n",
              "                                                                          &#x27;DaySinceLastOrder&#x27;,\n",
              "                                                                          &#x27;CashbackAmount&#x27;]),\n",
              "                                                                        (&#x27;cat&#x27;,\n",
              "                                                                         OneHotEncoder(drop=&#x27;first&#x27;),\n",
              "                                                                         [&#x27;PreferedOrderCat&#x27;,\n",
              "                                                                          &#x27;MaritalStatus&#x27;])])),\n",
              "                                       (&#x27;classifier&#x27;,\n",
              "                                        XGBClassifie...\n",
              "                                                      monotone_constraints=None,\n",
              "                                                      multi_strategy=None,\n",
              "                                                      n_estimators=None,\n",
              "                                                      n_jobs=None,\n",
              "                                                      num_parallel_tree=None,\n",
              "                                                      random_state=42, ...))]),\n",
              "             param_grid={&#x27;classifier__colsample_bytree&#x27;: [0.8, 1.0],\n",
              "                         &#x27;classifier__learning_rate&#x27;: [0.01, 0.05, 0.1],\n",
              "                         &#x27;classifier__max_depth&#x27;: [3, 6, 10],\n",
              "                         &#x27;classifier__n_estimators&#x27;: [100, 200, 300],\n",
              "                         &#x27;classifier__subsample&#x27;: [0.8, 1.0]},\n",
              "             scoring=&#x27;accuracy&#x27;, verbose=1)</pre></div></div></div><div class=\"sk-parallel\"><div class=\"sk-parallel-item\"><div class=\"sk-item\"><div class=\"sk-label-container\"><div class=\"sk-label sk-toggleable\"><input class=\"sk-toggleable__control sk-hidden--visually\" id=\"sk-estimator-id-114\" type=\"checkbox\" ><label for=\"sk-estimator-id-114\" class=\"sk-toggleable__label sk-toggleable__label-arrow\">estimator: Pipeline</label><div class=\"sk-toggleable__content\"><pre>Pipeline(steps=[(&#x27;preprocessor&#x27;,\n",
              "                 ColumnTransformer(transformers=[(&#x27;num&#x27;, StandardScaler(),\n",
              "                                                  [&#x27;Tenure&#x27;, &#x27;WarehouseToHome&#x27;,\n",
              "                                                   &#x27;NumberOfDeviceRegistered&#x27;,\n",
              "                                                   &#x27;SatisfactionScore&#x27;,\n",
              "                                                   &#x27;NumberOfAddress&#x27;,\n",
              "                                                   &#x27;DaySinceLastOrder&#x27;,\n",
              "                                                   &#x27;CashbackAmount&#x27;]),\n",
              "                                                 (&#x27;cat&#x27;,\n",
              "                                                  OneHotEncoder(drop=&#x27;first&#x27;),\n",
              "                                                  [&#x27;PreferedOrderCat&#x27;,\n",
              "                                                   &#x27;MaritalStatus&#x27;])])),\n",
              "                (&#x27;classifier&#x27;,\n",
              "                 XGBClassifier(base_score=None, booster=No...\n",
              "                               feature_types=None, gamma=None, grow_policy=None,\n",
              "                               importance_type=None,\n",
              "                               interaction_constraints=None, learning_rate=None,\n",
              "                               max_bin=None, max_cat_threshold=None,\n",
              "                               max_cat_to_onehot=None, max_delta_step=None,\n",
              "                               max_depth=None, max_leaves=None,\n",
              "                               min_child_weight=None, missing=nan,\n",
              "                               monotone_constraints=None, multi_strategy=None,\n",
              "                               n_estimators=None, n_jobs=None,\n",
              "                               num_parallel_tree=None, random_state=42, ...))])</pre></div></div></div><div class=\"sk-serial\"><div class=\"sk-item\"><div class=\"sk-serial\"><div class=\"sk-item sk-dashed-wrapped\"><div class=\"sk-label-container\"><div class=\"sk-label sk-toggleable\"><input class=\"sk-toggleable__control sk-hidden--visually\" id=\"sk-estimator-id-115\" type=\"checkbox\" ><label for=\"sk-estimator-id-115\" class=\"sk-toggleable__label sk-toggleable__label-arrow\">preprocessor: ColumnTransformer</label><div class=\"sk-toggleable__content\"><pre>ColumnTransformer(transformers=[(&#x27;num&#x27;, StandardScaler(),\n",
              "                                 [&#x27;Tenure&#x27;, &#x27;WarehouseToHome&#x27;,\n",
              "                                  &#x27;NumberOfDeviceRegistered&#x27;,\n",
              "                                  &#x27;SatisfactionScore&#x27;, &#x27;NumberOfAddress&#x27;,\n",
              "                                  &#x27;DaySinceLastOrder&#x27;, &#x27;CashbackAmount&#x27;]),\n",
              "                                (&#x27;cat&#x27;, OneHotEncoder(drop=&#x27;first&#x27;),\n",
              "                                 [&#x27;PreferedOrderCat&#x27;, &#x27;MaritalStatus&#x27;])])</pre></div></div></div><div class=\"sk-parallel\"><div class=\"sk-parallel-item\"><div class=\"sk-item\"><div class=\"sk-label-container\"><div class=\"sk-label sk-toggleable\"><input class=\"sk-toggleable__control sk-hidden--visually\" id=\"sk-estimator-id-116\" type=\"checkbox\" ><label for=\"sk-estimator-id-116\" class=\"sk-toggleable__label sk-toggleable__label-arrow\">num</label><div class=\"sk-toggleable__content\"><pre>[&#x27;Tenure&#x27;, &#x27;WarehouseToHome&#x27;, &#x27;NumberOfDeviceRegistered&#x27;, &#x27;SatisfactionScore&#x27;, &#x27;NumberOfAddress&#x27;, &#x27;DaySinceLastOrder&#x27;, &#x27;CashbackAmount&#x27;]</pre></div></div></div><div class=\"sk-serial\"><div class=\"sk-item\"><div class=\"sk-estimator sk-toggleable\"><input class=\"sk-toggleable__control sk-hidden--visually\" id=\"sk-estimator-id-117\" type=\"checkbox\" ><label for=\"sk-estimator-id-117\" class=\"sk-toggleable__label sk-toggleable__label-arrow\">StandardScaler</label><div class=\"sk-toggleable__content\"><pre>StandardScaler()</pre></div></div></div></div></div></div><div class=\"sk-parallel-item\"><div class=\"sk-item\"><div class=\"sk-label-container\"><div class=\"sk-label sk-toggleable\"><input class=\"sk-toggleable__control sk-hidden--visually\" id=\"sk-estimator-id-118\" type=\"checkbox\" ><label for=\"sk-estimator-id-118\" class=\"sk-toggleable__label sk-toggleable__label-arrow\">cat</label><div class=\"sk-toggleable__content\"><pre>[&#x27;PreferedOrderCat&#x27;, &#x27;MaritalStatus&#x27;]</pre></div></div></div><div class=\"sk-serial\"><div class=\"sk-item\"><div class=\"sk-estimator sk-toggleable\"><input class=\"sk-toggleable__control sk-hidden--visually\" id=\"sk-estimator-id-119\" type=\"checkbox\" ><label for=\"sk-estimator-id-119\" class=\"sk-toggleable__label sk-toggleable__label-arrow\">OneHotEncoder</label><div class=\"sk-toggleable__content\"><pre>OneHotEncoder(drop=&#x27;first&#x27;)</pre></div></div></div></div></div></div></div></div><div class=\"sk-item\"><div class=\"sk-estimator sk-toggleable\"><input class=\"sk-toggleable__control sk-hidden--visually\" id=\"sk-estimator-id-120\" type=\"checkbox\" ><label for=\"sk-estimator-id-120\" class=\"sk-toggleable__label sk-toggleable__label-arrow\">XGBClassifier</label><div class=\"sk-toggleable__content\"><pre>XGBClassifier(base_score=None, booster=None, callbacks=None,\n",
              "              colsample_bylevel=None, colsample_bynode=None,\n",
              "              colsample_bytree=None, device=None, early_stopping_rounds=None,\n",
              "              enable_categorical=False, eval_metric=&#x27;logloss&#x27;,\n",
              "              feature_types=None, gamma=None, grow_policy=None,\n",
              "              importance_type=None, interaction_constraints=None,\n",
              "              learning_rate=None, max_bin=None, max_cat_threshold=None,\n",
              "              max_cat_to_onehot=None, max_delta_step=None, max_depth=None,\n",
              "              max_leaves=None, min_child_weight=None, missing=nan,\n",
              "              monotone_constraints=None, multi_strategy=None, n_estimators=None,\n",
              "              n_jobs=None, num_parallel_tree=None, random_state=42, ...)</pre></div></div></div></div></div></div></div></div></div></div></div></div>"
            ],
            "text/plain": [
              "GridSearchCV(cv=5,\n",
              "             estimator=Pipeline(steps=[('preprocessor',\n",
              "                                        ColumnTransformer(transformers=[('num',\n",
              "                                                                         StandardScaler(),\n",
              "                                                                         ['Tenure',\n",
              "                                                                          'WarehouseToHome',\n",
              "                                                                          'NumberOfDeviceRegistered',\n",
              "                                                                          'SatisfactionScore',\n",
              "                                                                          'NumberOfAddress',\n",
              "                                                                          'DaySinceLastOrder',\n",
              "                                                                          'CashbackAmount']),\n",
              "                                                                        ('cat',\n",
              "                                                                         OneHotEncoder(drop='first'),\n",
              "                                                                         ['PreferedOrderCat',\n",
              "                                                                          'MaritalStatus'])])),\n",
              "                                       ('classifier',\n",
              "                                        XGBClassifie...\n",
              "                                                      monotone_constraints=None,\n",
              "                                                      multi_strategy=None,\n",
              "                                                      n_estimators=None,\n",
              "                                                      n_jobs=None,\n",
              "                                                      num_parallel_tree=None,\n",
              "                                                      random_state=42, ...))]),\n",
              "             param_grid={'classifier__colsample_bytree': [0.8, 1.0],\n",
              "                         'classifier__learning_rate': [0.01, 0.05, 0.1],\n",
              "                         'classifier__max_depth': [3, 6, 10],\n",
              "                         'classifier__n_estimators': [100, 200, 300],\n",
              "                         'classifier__subsample': [0.8, 1.0]},\n",
              "             scoring='accuracy', verbose=1)"
            ]
          },
          "execution_count": 308,
          "metadata": {},
          "output_type": "execute_result"
        }
      ],
      "source": [
        "# Advanced hyperparameter tuning for XGBoost\n",
        "param_grid_xgb = {\n",
        "    'classifier__n_estimators': [100, 200, 300],\n",
        "    'classifier__max_depth': [3, 6, 10],\n",
        "    'classifier__learning_rate': [0.01, 0.05, 0.1],\n",
        "    'classifier__subsample': [0.8, 1.0],\n",
        "    'classifier__colsample_bytree': [0.8, 1.0]\n",
        "}\n",
        "\n",
        "grid_search_xgb = GridSearchCV(xgboost_model, param_grid_xgb, cv=5, scoring='accuracy', verbose=1)\n",
        "grid_search_xgb.fit(X_train, y_train)\n",
        "\n"
      ]
    },
    {
      "cell_type": "code",
      "execution_count": 309,
      "metadata": {},
      "outputs": [],
      "source": [
        "# Evaluate the tuned XGBoost model\n",
        "best_xgb_model = grid_search_xgb.best_estimator_\n",
        "tuned_y_pred = best_xgb_model.predict(X_test)\n",
        "\n",
        "tuned_results = {\n",
        "    'accuracy': accuracy_score(y_test, tuned_y_pred),\n",
        "    'classification_report': classification_report(y_test, tuned_y_pred, output_dict=False)\n",
        "}"
      ]
    },
    {
      "cell_type": "code",
      "execution_count": 310,
      "metadata": {},
      "outputs": [
        {
          "name": "stdout",
          "output_type": "stream",
          "text": [
            "accuracy:  0.9067278287461774\n",
            "Classification report:\n",
            "               precision    recall  f1-score   support\n",
            "\n",
            "           0       0.94      0.95      0.94       547\n",
            "           1       0.73      0.67      0.70       107\n",
            "\n",
            "    accuracy                           0.91       654\n",
            "   macro avg       0.84      0.81      0.82       654\n",
            "weighted avg       0.90      0.91      0.91       654\n",
            "\n"
          ]
        }
      ],
      "source": [
        "\n",
        "print(\"accuracy: \", tuned_results['accuracy'])\n",
        "\n",
        "print(\"Classification report:\\n\", tuned_results['classification_report'])\n"
      ]
    },
    {
      "cell_type": "markdown",
      "metadata": {},
      "source": [
        "Karna hasil tuning kedua recall belum cukup untuk prediksi false negatif maka dilakukan threshold"
      ]
    },
    {
      "cell_type": "code",
      "execution_count": 311,
      "metadata": {},
      "outputs": [],
      "source": [
        "from sklearn.metrics import accuracy_score, classification_report, recall_score"
      ]
    },
    {
      "cell_type": "code",
      "execution_count": 312,
      "metadata": {},
      "outputs": [
        {
          "name": "stdout",
          "output_type": "stream",
          "text": [
            "Recall with threshold 0.3:  0.7476635514018691\n",
            "classification_report with Threshold 0.3:\n",
            "               precision    recall  f1-score   support\n",
            "\n",
            "           0       0.95      0.92      0.94       547\n",
            "           1       0.66      0.75      0.70       107\n",
            "\n",
            "    accuracy                           0.89       654\n",
            "   macro avg       0.80      0.84      0.82       654\n",
            "weighted avg       0.90      0.89      0.90       654\n",
            "\n"
          ]
        }
      ],
      "source": [
        "tuned_y_prob = best_xgb_model.predict_proba(X_test)[:, 1]\n",
        "\n",
        "threshold = 0.3\n",
        "tuned_y_pred_adjusted = (tuned_y_prob > threshold).astype(int)\n",
        "\n",
        "# re evaluate\n",
        "print(\"Recall with threshold 0.3: \", recall_score(y_test, tuned_y_pred_adjusted))\n",
        "\n",
        "print(\"classification_report with Threshold 0.3:\\n\", classification_report(y_test, tuned_y_pred_adjusted))"
      ]
    },
    {
      "cell_type": "markdown",
      "metadata": {},
      "source": [
        "The recall with a threshold of 0.3 is 0.75, which indicates that 75% of the actual positive cases (label 1) were correctly identified. The classification report shows that the model performs well with a high precision (0.95) and recall (0.92) for class 0, which represents the negative class. However, for class 1 (the positive class), the precision is lower (0.66), meaning more false positives, but the recall is higher (0.75), meaning more true positives are identified. The overall accuracy is 89%, and the macro and weighted averages show balanced performance across both classes."
      ]
    },
    {
      "cell_type": "markdown",
      "metadata": {},
      "source": [
        "# Feature Importance"
      ]
    },
    {
      "cell_type": "code",
      "execution_count": 314,
      "metadata": {},
      "outputs": [
        {
          "name": "stdout",
          "output_type": "stream",
          "text": [
            "Feature importances:\n",
            "                                     Feature  Importance\n",
            "0                                num__Tenure    0.211653\n",
            "7              cat__PreferedOrderCat_Grocery    0.161504\n",
            "9         cat__PreferedOrderCat_Mobile Phone    0.093346\n",
            "10              cat__PreferedOrderCat_Others    0.081785\n",
            "12                 cat__MaritalStatus_Single    0.064216\n",
            "8   cat__PreferedOrderCat_Laptop & Accessory    0.056497\n",
            "5                     num__DaySinceLastOrder    0.054895\n",
            "4                       num__NumberOfAddress    0.054885\n",
            "6                        num__CashbackAmount    0.048361\n",
            "2              num__NumberOfDeviceRegistered    0.047314\n",
            "3                     num__SatisfactionScore    0.046989\n",
            "1                       num__WarehouseToHome    0.044861\n",
            "11                cat__MaritalStatus_Married    0.033694\n"
          ]
        }
      ],
      "source": [
        "# Extract the trained XGBoost model from the pipeline\n",
        "xgb_model = best_xgb_model.named_steps['classifier']\n",
        "\n",
        "# Get feature importance\n",
        "feature_importances = pd.DataFrame({\n",
        "    'Feature': preprocessor.get_feature_names_out(),\n",
        "    'Importance': xgb_model.feature_importances_\n",
        "}).sort_values(by='Importance', ascending=False)\n",
        "\n",
        "# Print feature importances\n",
        "print(\"Feature importances:\")\n",
        "print(feature_importances)\n"
      ]
    },
    {
      "cell_type": "code",
      "execution_count": 315,
      "metadata": {},
      "outputs": [
        {
          "data": {
            "image/png": "[encoded data removed]",
            "text/plain": [
              "<Figure size 1000x600 with 1 Axes>"
            ]
          },
          "metadata": {},
          "output_type": "display_data"
        }
      ],
      "source": [
        "plt.figure(figsize=(10, 6))\n",
        "plt.barh(feature_importances['Feature'], feature_importances['Importance'], color='skyblue')\n",
        "plt.xlabel('Importance')\n",
        "plt.ylabel('Feature')\n",
        "plt.title('Feature Importance (XGBoost)')\n",
        "plt.gca().invert_yaxis()  # Invert y-axis for better readability\n",
        "plt.show()\n"
      ]
    },
    {
      "cell_type": "markdown",
      "metadata": {},
      "source": [
        "From the data above, it can be seen which factors influence the potential for customer churn and the machine learning model. The most important feature is tenure, then preferredordercat for grocery. Analysis can be improved by performing feature selection or a combination of influential features to reduce model complexity and compared to the current best model. \n",
        "\n",
        "In addition, these factors can also be an insight for business, where companies must pay attention to tenure or the length of someone's subscription. and see what purchase categories are most popular. In addition, companies can increase customer retention by providing attractive ongoing promotions, such as if there is a subscription."
      ]
    },
    {
      "cell_type": "markdown",
      "metadata": {},
      "source": [
        "# Final Model"
      ]
    },
    {
      "cell_type": "markdown",
      "metadata": {},
      "source": [
        "#### Export model"
      ]
    },
    {
      "cell_type": "code",
      "execution_count": 319,
      "metadata": {},
      "outputs": [
        {
          "name": "stdout",
          "output_type": "stream",
          "text": [
            "Model saved to xgboost_customer_churn_tuned.sav\n"
          ]
        }
      ],
      "source": [
        "import pickle\n",
        "\n",
        "# Save the best tuned XGBoost model\n",
        "model_filename = 'xgboost_customer_churn_tuned.sav'\n",
        "with open(model_filename, 'wb') as file:\n",
        "    pickle.dump(best_xgb_model, file)\n",
        "\n",
        "print(f\"Model saved to {model_filename}\")\n"
      ]
    },
    {
      "cell_type": "markdown",
      "metadata": {},
      "source": [
        "# Conclusion\n",
        "\n",
        "Based on the model evaluation results, the XGBoost model achieved an accuracy of 89% in predicting customer churn. The precision and recall for non-churning customers (class 0) were 0.95 and 0.92, respectively, indicating that the model is highly effective in identifying customers who are not likely to churn. For churning customers (class 1), the model achieved a precision of 0.66 and recall of 0.75, demonstrating good performance with room for improvement. Overall, the model provides solid results with an average F1-score of 0.82 and can be used to support customer retention strategies."
      ]
    },
    {
      "cell_type": "markdown",
      "metadata": {},
      "source": [
        "# Recomendation "
      ]
    },
    {
      "cell_type": "markdown",
      "metadata": {},
      "source": [
        "**Business Recommendations:**\n",
        "- Offer promotions, cashback, or subscriptions to customers with a tenure of 0-2 months at risk of churning, encouraging continued use of the platform.\n",
        "- Provide shipping discounts to potential churn customers with long distances between warehouses and homes.\n",
        "- Use the trained machine learning model to guide targeted marketing strategies.\n",
        "\n",
        "**Model Recommendations:**\n",
        "- Ensure data includes a customer ID column to prevent duplicates and missing values.\n",
        "- Include features related to service quality and transaction details, such as delivery time, on-time performance, and customer service ratings.\n",
        "- Improve model performance by tuning hyperparameters and experimenting with additional parameters.\n",
        "- Increase recall by adjusting the ROC-AUC threshold.\n",
        "- Optimize the model by selecting important features and experimenting with feature combinations to reduce complexity."
      ]
    }
  ],
  "metadata": {
    "colab": {
      "provenance": []
    },
    "kernelspec": {
      "display_name": "base",
      "language": "python",
      "name": "python3"
    },
    "language_info": {
      "codemirror_mode": {
        "name": "ipython",
        "version": 3
      },
      "file_extension": ".py",
      "mimetype": "text/x-python",
      "name": "python",
      "nbconvert_exporter": "python",
      "pygments_lexer": "ipython3",
      "version": "3.11.5"
    }
  },
  "nbformat": 4,
  "nbformat_minor": 0
}
